{
 "cells": [
  {
   "attachments": {},
   "cell_type": "markdown",
   "metadata": {},
   "source": [
    "# Database Demo\n",
    "\n",
    "Sample functionality for creating tables, inserting data and running similarity search with OgbujiPT.\n",
    "\n",
    "__Notes:__\n",
    "\n",
    "Notebook requirements:\n",
    "```\n",
    "pip install jupyter pgvector asyncpg sentence_transformers\n",
    "```\n",
    "\n",
    "This notebook will attempt to access a database named `PGv` at `sofola:5432`, using the username `oori` and password `example`. If you have a different setup, you can change the connection string in the first cell."
   ]
  },
  {
   "attachments": {},
   "cell_type": "markdown",
   "metadata": {},
   "source": [
    "### Initial setup and Imports"
   ]
  },
  {
   "cell_type": "code",
   "execution_count": 25,
   "metadata": {},
   "outputs": [],
   "source": [
    "import uuid\n",
    "\n",
    "from ogbujipt.embedding.pgvector import DocDB, MessageDB\n",
    "\n",
    "from sentence_transformers       import SentenceTransformer\n",
    "\n",
    "DB_NAME = 'PGv'\n",
    "HOST = 'sofola'\n",
    "PORT = 5432\n",
    "USER = 'oori'\n",
    "PASSWORD = 'example'\n",
    "\n",
    "e_model = SentenceTransformer('all-MiniLM-L6-v2')  # Load the embedding model"
   ]
  },
  {
   "attachments": {},
   "cell_type": "markdown",
   "metadata": {},
   "source": [
    "# Document Embedding"
   ]
  },
  {
   "cell_type": "code",
   "execution_count": 26,
   "metadata": {},
   "outputs": [],
   "source": [
    "pacer_copypasta = [  # Demo document\n",
    "    'The FitnessGram™ Pacer Test is a multistage aerobic capacity test that progressively gets more difficult as it continues.', \n",
    "    'The 20 meter pacer test will begin in 30 seconds. Line up at the start.', \n",
    "    'The running speed starts slowly, but gets faster each minute after you hear this signal.', \n",
    "    '[beep] A single lap should be completed each time you hear this sound.', \n",
    "    '[ding] Remember to run in a straight line, and run as long as possible.', \n",
    "    'The second time you fail to complete a lap before the sound, your test is over.', \n",
    "    'The test will begin on the word start. On your mark, get ready, start.'\n",
    "]"
   ]
  },
  {
   "attachments": {},
   "cell_type": "markdown",
   "metadata": {},
   "source": [
    "### Connecting to the database"
   ]
  },
  {
   "cell_type": "code",
   "execution_count": 27,
   "metadata": {},
   "outputs": [],
   "source": [
    "pacerDB = await DocDB.from_conn_params(\n",
    "    embedding_model=e_model, \n",
    "    table_name='pacer',\n",
    "    user=USER,\n",
    "    password=PASSWORD,\n",
    "    db_name=DB_NAME,\n",
    "    host=HOST,\n",
    "    port=int(PORT)\n",
    ")"
   ]
  },
  {
   "attachments": {},
   "cell_type": "markdown",
   "metadata": {},
   "source": [
    "### Create Tables"
   ]
  },
  {
   "cell_type": "code",
   "execution_count": 28,
   "metadata": {},
   "outputs": [],
   "source": [
    "await pacerDB.drop_table()    # Drop the table if one is found\n",
    "await pacerDB.create_table()  # Create a new table"
   ]
  },
  {
   "attachments": {},
   "cell_type": "markdown",
   "metadata": {},
   "source": [
    "### Inserting Document"
   ]
  },
  {
   "cell_type": "code",
   "execution_count": 29,
   "metadata": {},
   "outputs": [
    {
     "name": "stdout",
     "output_type": "stream",
     "text": [
      "Inserted 7 document chunks into the table\n"
     ]
    }
   ],
   "source": [
    "for index, text in enumerate(pacer_copypasta):   # For each line in the copypasta\n",
    "    await pacerDB.insert(                        # Insert the line into the table\n",
    "        content=text,                            # The text to be embedded\n",
    "        title=f'Pacer Copypasta line {index}',   # Title metadata\n",
    "        page_numbers=[index],                    # Page number metadata\n",
    "        tags=['fitness', 'pacer', 'copypasta'],  # Tag metadata\n",
    "    )\n",
    "\n",
    "print(f'Inserted {len(pacer_copypasta)} document chunks into the table')"
   ]
  },
  {
   "attachments": {},
   "cell_type": "markdown",
   "metadata": {},
   "source": [
    "## Similarity search Document"
   ]
  },
  {
   "attachments": {},
   "cell_type": "markdown",
   "metadata": {},
   "source": [
    "### Searching the document with a perfect match"
   ]
  },
  {
   "cell_type": "code",
   "execution_count": 30,
   "metadata": {},
   "outputs": [
    {
     "name": "stdout",
     "output_type": "stream",
     "text": [
      "Semantic Searching data using search string:\n",
      "\"[beep] A single lap should be completed each time you hear this sound.\"\n"
     ]
    }
   ],
   "source": [
    "search_string = '[beep] A single lap should be completed each time you hear this sound.'\n",
    "print(f'Semantic Searching data using search string:\\n\"{search_string}\"')\n",
    "\n",
    "sim_search = await pacerDB.search(\n",
    "    query_string=search_string,  # string to search by\n",
    "    limit=3                      # Number of results returned\n",
    ")"
   ]
  },
  {
   "cell_type": "code",
   "execution_count": 31,
   "metadata": {},
   "outputs": [
    {
     "name": "stdout",
     "output_type": "stream",
     "text": [
      "RETURNED TITLE:\n",
      "\"Pacer Copypasta line 3\"\n",
      "RETURNED CONTENT:\n",
      "\"[beep] A single lap should be completed each time you hear this sound.\"\n",
      "RETURNED COSINE SIMILARITY:\n",
      "0.00\n"
     ]
    }
   ],
   "source": [
    "print(f'RETURNED TITLE:\\n\"{sim_search[0][\"title\"]}\"')                            # Print the title of the first result\n",
    "print(f'RETURNED CONTENT:\\n\"{sim_search[0][\"content\"]}\"')                        # Print the content of the first result\n",
    "print(f'RETURNED COSINE SIMILARITY:\\n{sim_search[0][\"cosine_similarity\"]:.2f}')  # Print the cosine similarity of the first result"
   ]
  },
  {
   "cell_type": "code",
   "execution_count": 32,
   "metadata": {},
   "outputs": [
    {
     "name": "stdout",
     "output_type": "stream",
     "text": [
      "RAW RETURN:\n"
     ]
    },
    {
     "data": {
      "text/plain": [
       "[<Record cosine_similarity=0.0 title='Pacer Copypasta line 3' content='[beep] A single lap should be completed each time you hear this sound.' page_numbers=[3] tags=['fitness', 'pacer', 'copypasta']>,\n",
       " <Record cosine_similarity=0.31445924384770496 title='Pacer Copypasta line 5' content='The second time you fail to complete a lap before the sound, your test is over.' page_numbers=[5] tags=['fitness', 'pacer', 'copypasta']>,\n",
       " <Record cosine_similarity=0.634082588486436 title='Pacer Copypasta line 2' content='The running speed starts slowly, but gets faster each minute after you hear this signal.' page_numbers=[2] tags=['fitness', 'pacer', 'copypasta']>]"
      ]
     },
     "execution_count": 32,
     "metadata": {},
     "output_type": "execute_result"
    }
   ],
   "source": [
    "print(f'RAW RETURN:')\n",
    "sim_search"
   ]
  },
  {
   "attachments": {},
   "cell_type": "markdown",
   "metadata": {},
   "source": [
    "### Searching the document with a partial match"
   ]
  },
  {
   "cell_type": "code",
   "execution_count": 33,
   "metadata": {},
   "outputs": [
    {
     "name": "stdout",
     "output_type": "stream",
     "text": [
      "Semantic Searching data using search string:\n",
      "\"straight\"\n"
     ]
    }
   ],
   "source": [
    "search_string = 'straight'\n",
    "print(f'Semantic Searching data using search string:\\n\"{search_string}\"')\n",
    "\n",
    "sim_search = await pacerDB.search(\n",
    "    query_string=search_string,  # string to search by\n",
    "    limit=3                      # Number of results returned\n",
    ")"
   ]
  },
  {
   "cell_type": "code",
   "execution_count": 34,
   "metadata": {},
   "outputs": [
    {
     "name": "stdout",
     "output_type": "stream",
     "text": [
      "RETURNED TITLE:\n",
      "\"Pacer Copypasta line 4\"\n",
      "RETURNED CONTENT:\n",
      "\"[ding] Remember to run in a straight line, and run as long as possible.\"\n",
      "RETURNED COSINE SIMILARITY:\n",
      "0.72\n"
     ]
    }
   ],
   "source": [
    "print(f'RETURNED TITLE:\\n\"{sim_search[0][\"title\"]}\"')                            # Print the title of the first result\n",
    "print(f'RETURNED CONTENT:\\n\"{sim_search[0][\"content\"]}\"')                        # Print the content of the first result\n",
    "print(f'RETURNED COSINE SIMILARITY:\\n{sim_search[0][\"cosine_similarity\"]:.2f}')  # Print the cosine similarity of the first result"
   ]
  },
  {
   "cell_type": "code",
   "execution_count": 35,
   "metadata": {},
   "outputs": [
    {
     "name": "stdout",
     "output_type": "stream",
     "text": [
      "RAW RETURN:\n"
     ]
    },
    {
     "data": {
      "text/plain": [
       "[<Record cosine_similarity=0.7157614573027005 title='Pacer Copypasta line 4' content='[ding] Remember to run in a straight line, and run as long as possible.' page_numbers=[4] tags=['fitness', 'pacer', 'copypasta']>,\n",
       " <Record cosine_similarity=0.8959717930563745 title='Pacer Copypasta line 6' content='The test will begin on the word start. On your mark, get ready, start.' page_numbers=[6] tags=['fitness', 'pacer', 'copypasta']>,\n",
       " <Record cosine_similarity=0.9200870391648666 title='Pacer Copypasta line 2' content='The running speed starts slowly, but gets faster each minute after you hear this signal.' page_numbers=[2] tags=['fitness', 'pacer', 'copypasta']>]"
      ]
     },
     "execution_count": 35,
     "metadata": {},
     "output_type": "execute_result"
    }
   ],
   "source": [
    "print(f'RAW RETURN:')  \n",
    "sim_search"
   ]
  },
  {
   "attachments": {},
   "cell_type": "markdown",
   "metadata": {},
   "source": [
    "# Cleanup"
   ]
  },
  {
   "cell_type": "code",
   "execution_count": 36,
   "metadata": {},
   "outputs": [],
   "source": [
    "await pacerDB.drop_table()"
   ]
  },
  {
   "attachments": {},
   "cell_type": "markdown",
   "metadata": {},
   "source": [
    "# Chatlog Embedding"
   ]
  },
  {
   "cell_type": "code",
   "execution_count": 37,
   "metadata": {},
   "outputs": [],
   "source": [
    "abbott_and_costello = [  # Demo chatlog\n",
    "    {'role': 'system', 'content': 'The user is considering becoming a ballplayer. The assistant wants to make sure they knows what they\\'re getting into.'},\n",
    "    {'role': 'assistant', 'content': 'Strange as it may seem, they give ball players nowadays very peculiar names.'},\n",
    "    {'role': 'user', 'content': 'Funny names?'},\n",
    "    {'role': 'assistant', 'content': 'Nicknames, nicknames. Now, on the St. Louis team we have Who\\'s on first, What\\'s on second, I Don\\'t Know is on third--'},\n",
    "    {'role': 'user', 'content': 'That\\'s what I want to find out. I want you to tell me the names of the fellows on the St. Louis team.'},\n",
    "    {'role': 'assistant', 'content': \"I'm telling you. Who is on first. What's on second. I Don't Know's on third--\"},\n",
    "    {'role': 'user', 'content': \"You know the fellows' names?\"},\n",
    "    {'role': 'assistant', 'content': 'Yes.'},\n",
    "    {'role': 'user', 'content': \"Well, then who's playing first?\"},\n",
    "    {'role': 'assistant', 'content': 'Yes.'},\n",
    "    {'role': 'user', 'content': \"I mean the fellow's name on first base.\"},\n",
    "    {'role': 'assistant', 'content': 'Who.'},\n",
    "    {'role': 'user', 'content': \"The fellow playin' first base.\"},\n",
    "    {'role': 'assistant', 'content': 'Who.'},\n",
    "    {'role': 'user', 'content': \"The guy on first base.\"},\n",
    "    {'role': 'assistant', 'content': 'Who is on first.'},\n",
    "    {'role': 'user', 'content': \"Well, what are you askin' me for?\"},\n",
    "    {'role': 'assistant', 'content': \"I'm not asking you--I'm telling you. Who is on first.\"},\n",
    "    {'role': 'user', 'content': \"I'm asking you--who's on first?\"},\n",
    "    {'role': 'assistant', 'content': 'That\\'s the man\\'s name.'},\n",
    "    {'role': 'user', 'content': \"That's who's name?\"},\n",
    "    {'role': 'assistant', 'content': 'Yes.'},\n",
    "]"
   ]
  },
  {
   "attachments": {},
   "cell_type": "markdown",
   "metadata": {},
   "source": [
    "### Connecting to the database"
   ]
  },
  {
   "cell_type": "code",
   "execution_count": 38,
   "metadata": {},
   "outputs": [],
   "source": [
    "baseballDB = await MessageDB.from_conn_params(\n",
    "    embedding_model=e_model, \n",
    "    table_name='baseball',\n",
    "    user=USER,\n",
    "    password=PASSWORD,\n",
    "    db_name=DB_NAME,\n",
    "    host=HOST,\n",
    "    port=int(PORT)\n",
    ")"
   ]
  },
  {
   "attachments": {},
   "cell_type": "markdown",
   "metadata": {},
   "source": [
    "### Create Tables"
   ]
  },
  {
   "cell_type": "code",
   "execution_count": 39,
   "metadata": {},
   "outputs": [],
   "source": [
    "await baseballDB.drop_table()    # Drop the table if one is found\n",
    "await baseballDB.create_table()  # Create a new table"
   ]
  },
  {
   "attachments": {},
   "cell_type": "markdown",
   "metadata": {},
   "source": [
    "### Inserting Chatlog"
   ]
  },
  {
   "cell_type": "code",
   "execution_count": 40,
   "metadata": {},
   "outputs": [
    {
     "name": "stdout",
     "output_type": "stream",
     "text": [
      "Inserted 22 lines of dialog into the table with history key \"7d7c486e-5dc7-4ba4-aa81-d92339d507ce\".\n"
     ]
    }
   ],
   "source": [
    "history_key = uuid.uuid4()        # Generate a key for the chatlog\n",
    "for line in abbott_and_costello:  # For each line of dialog in the script\n",
    "    await baseballDB.insert(      # Insert the message into the table\n",
    "        history_key=history_key,  # The key for the chatlog\n",
    "        role=line['role'],\n",
    "        content=line['content'],\n",
    "        metadata={'genre': 'comedy', 'year': 1938}\n",
    "    )\n",
    "print(f'Inserted {len(abbott_and_costello)} lines of dialog into the table with history key \"{history_key}\".')"
   ]
  },
  {
   "attachments": {},
   "cell_type": "markdown",
   "metadata": {},
   "source": [
    "## Similarity search Chatlog"
   ]
  },
  {
   "attachments": {},
   "cell_type": "markdown",
   "metadata": {},
   "source": [
    "### Searching the chatlog with a perfect match"
   ]
  },
  {
   "cell_type": "code",
   "execution_count": 41,
   "metadata": {},
   "outputs": [
    {
     "name": "stdout",
     "output_type": "stream",
     "text": [
      "Semantic Searching data using search string: \"nickname\"\n"
     ]
    }
   ],
   "source": [
    "search_string = 'nickname'\n",
    "print(f'Semantic Searching data using search string: \"{search_string}\"')\n",
    "\n",
    "sim_search = await baseballDB.search(\n",
    "    history_key=history_key,\n",
    "    query_string=search_string,\n",
    "    limit=3\n",
    ")"
   ]
  },
  {
   "cell_type": "code",
   "execution_count": 42,
   "metadata": {},
   "outputs": [
    {
     "name": "stdout",
     "output_type": "stream",
     "text": [
      "RETURNED INDEX:\n",
      "4\n",
      "RETURNED MESSAGE:\n",
      "assistant: Nicknames, nicknames. Now, on the St. Louis team we have Who's on first, What's on second, I Don't Know is on third--\n",
      "RETURNED COSINE SIMILARITY:\n",
      "0.49\n"
     ]
    }
   ],
   "source": [
    "print(f'RETURNED INDEX:\\n{sim_search[0][\"id\"]}')                                  # Print the index of the first result\n",
    "print(f'RETURNED MESSAGE:\\n{sim_search[0][\"role\"]}: {sim_search[0][\"content\"]}')  # Print the message of the first result\n",
    "print(f'RETURNED COSINE SIMILARITY:\\n{sim_search[0][\"cosine_similarity\"]:.2f}')   # Print the cosine similarity of the first result"
   ]
  },
  {
   "cell_type": "code",
   "execution_count": 43,
   "metadata": {},
   "outputs": [
    {
     "name": "stdout",
     "output_type": "stream",
     "text": [
      "RAW RETURN:\n"
     ]
    },
    {
     "data": {
      "text/plain": [
       "[{'id': 4,\n",
       "  'role': 'assistant',\n",
       "  'content': \"Nicknames, nicknames. Now, on the St. Louis team we have Who's on first, What's on second, I Don't Know is on third--\",\n",
       "  'metadata': {'genre': 'comedy', 'year': 1938},\n",
       "  'cosine_similarity': 0.4910637432970839},\n",
       " {'id': 3,\n",
       "  'role': 'user',\n",
       "  'content': 'Funny names?',\n",
       "  'metadata': {'genre': 'comedy', 'year': 1938},\n",
       "  'cosine_similarity': 0.561316881258301},\n",
       " {'id': 20,\n",
       "  'role': 'assistant',\n",
       "  'content': \"That's the man's name.\",\n",
       "  'metadata': {'genre': 'comedy', 'year': 1938},\n",
       "  'cosine_similarity': 0.5729953094121991}]"
      ]
     },
     "execution_count": 43,
     "metadata": {},
     "output_type": "execute_result"
    }
   ],
   "source": [
    "print('RAW RETURN:')\n",
    "sim_search"
   ]
  },
  {
   "attachments": {},
   "cell_type": "markdown",
   "metadata": {},
   "source": [
    "### Searching the chatlog with a partial match"
   ]
  },
  {
   "cell_type": "code",
   "execution_count": 44,
   "metadata": {},
   "outputs": [
    {
     "name": "stdout",
     "output_type": "stream",
     "text": [
      "Semantic Searching data using search string: \"nickname\"\n"
     ]
    }
   ],
   "source": [
    "search_string = 'nickname'\n",
    "print(f'Semantic Searching data using search string: \"{search_string}\"')\n",
    "\n",
    "sim_search = await baseballDB.search(\n",
    "    history_key=history_key,\n",
    "    query_string=search_string,\n",
    "    limit=3\n",
    ")"
   ]
  },
  {
   "cell_type": "code",
   "execution_count": 45,
   "metadata": {},
   "outputs": [
    {
     "name": "stdout",
     "output_type": "stream",
     "text": [
      "RETURNED INDEX:\n",
      "4\n",
      "\n",
      "RETURNED MESSAGE:\n",
      "assistant: Nicknames, nicknames. Now, on the St. Louis team we have Who's on first, What's on second, I Don't Know is on third--\n",
      "\n",
      "RETURNED COSINE SIMILARITY:\n",
      "0.49\n",
      "\n"
     ]
    }
   ],
   "source": [
    "print(f'RETURNED INDEX:\\n{sim_search[0][\"id\"]}\\n')                                  # Print the index of the first result\n",
    "print(f'RETURNED MESSAGE:\\n{sim_search[0][\"role\"]}: {sim_search[0][\"content\"]}\\n')  # Print the message of the first result\n",
    "print(f'RETURNED COSINE SIMILARITY:\\n{sim_search[0][\"cosine_similarity\"]:.2f}\\n')   # Print the cosine similarity of the first result"
   ]
  },
  {
   "cell_type": "code",
   "execution_count": 46,
   "metadata": {},
   "outputs": [
    {
     "name": "stdout",
     "output_type": "stream",
     "text": [
      "RAW RETURN:\n"
     ]
    },
    {
     "data": {
      "text/plain": [
       "[{'id': 4,\n",
       "  'role': 'assistant',\n",
       "  'content': \"Nicknames, nicknames. Now, on the St. Louis team we have Who's on first, What's on second, I Don't Know is on third--\",\n",
       "  'metadata': {'genre': 'comedy', 'year': 1938},\n",
       "  'cosine_similarity': 0.4910637432970839},\n",
       " {'id': 3,\n",
       "  'role': 'user',\n",
       "  'content': 'Funny names?',\n",
       "  'metadata': {'genre': 'comedy', 'year': 1938},\n",
       "  'cosine_similarity': 0.561316881258301},\n",
       " {'id': 20,\n",
       "  'role': 'assistant',\n",
       "  'content': \"That's the man's name.\",\n",
       "  'metadata': {'genre': 'comedy', 'year': 1938},\n",
       "  'cosine_similarity': 0.5729953094121991}]"
      ]
     },
     "execution_count": 46,
     "metadata": {},
     "output_type": "execute_result"
    }
   ],
   "source": [
    "print('RAW RETURN:')\n",
    "sim_search"
   ]
  },
  {
   "attachments": {},
   "cell_type": "markdown",
   "metadata": {},
   "source": [
    "### Retrieving the entire chatlog"
   ]
  },
  {
   "cell_type": "code",
   "execution_count": 47,
   "metadata": {},
   "outputs": [
    {
     "name": "stdout",
     "output_type": "stream",
     "text": [
      "Retreiving chatlog \"7d7c486e-5dc7-4ba4-aa81-d92339d507ce\" from database\n"
     ]
    }
   ],
   "source": [
    "print(f'Retreiving chatlog \"{history_key}\" from database')\n",
    "script_from_PG = await baseballDB.get_table(history_key=history_key)"
   ]
  },
  {
   "cell_type": "code",
   "execution_count": 48,
   "metadata": {},
   "outputs": [
    {
     "name": "stdout",
     "output_type": "stream",
     "text": [
      "RETURNED CHATLOG:\n",
      "system: The user is considering becoming a ballplayer. The assistant wants to make sure they knows what they're getting into.\n",
      "assistant: Strange as it may seem, they give ball players nowadays very peculiar names.\n",
      "user: Funny names?\n",
      "assistant: Nicknames, nicknames. Now, on the St. Louis team we have Who's on first, What's on second, I Don't Know is on third--\n",
      "user: That's what I want to find out. I want you to tell me the names of the fellows on the St. Louis team.\n",
      "assistant: I'm telling you. Who is on first. What's on second. I Don't Know's on third--\n",
      "user: You know the fellows' names?\n",
      "assistant: Yes.\n",
      "user: Well, then who's playing first?\n",
      "assistant: Yes.\n",
      "user: I mean the fellow's name on first base.\n",
      "assistant: Who.\n",
      "user: The fellow playin' first base.\n",
      "assistant: Who.\n",
      "user: The guy on first base.\n",
      "assistant: Who is on first.\n",
      "user: Well, what are you askin' me for?\n",
      "assistant: I'm not asking you--I'm telling you. Who is on first.\n",
      "user: I'm asking you--who's on first?\n",
      "assistant: That's the man's name.\n",
      "user: That's who's name?\n",
      "assistant: Yes.\n"
     ]
    }
   ],
   "source": [
    "print('RETURNED CHATLOG:')\n",
    "for message in script_from_PG:\n",
    "    print(f'{message[\"role\"]}: {message[\"content\"]}')"
   ]
  },
  {
   "cell_type": "code",
   "execution_count": 49,
   "metadata": {},
   "outputs": [
    {
     "name": "stdout",
     "output_type": "stream",
     "text": [
      "RAW RETURN:\n"
     ]
    },
    {
     "data": {
      "text/plain": [
       "[{'id': 1,\n",
       "  'role': 'system',\n",
       "  'content': \"The user is considering becoming a ballplayer. The assistant wants to make sure they knows what they're getting into.\",\n",
       "  'metadata': {'genre': 'comedy', 'year': 1938}},\n",
       " {'id': 2,\n",
       "  'role': 'assistant',\n",
       "  'content': 'Strange as it may seem, they give ball players nowadays very peculiar names.',\n",
       "  'metadata': {'genre': 'comedy', 'year': 1938}},\n",
       " {'id': 3,\n",
       "  'role': 'user',\n",
       "  'content': 'Funny names?',\n",
       "  'metadata': {'genre': 'comedy', 'year': 1938}},\n",
       " {'id': 4,\n",
       "  'role': 'assistant',\n",
       "  'content': \"Nicknames, nicknames. Now, on the St. Louis team we have Who's on first, What's on second, I Don't Know is on third--\",\n",
       "  'metadata': {'genre': 'comedy', 'year': 1938}},\n",
       " {'id': 5,\n",
       "  'role': 'user',\n",
       "  'content': \"That's what I want to find out. I want you to tell me the names of the fellows on the St. Louis team.\",\n",
       "  'metadata': {'genre': 'comedy', 'year': 1938}},\n",
       " {'id': 6,\n",
       "  'role': 'assistant',\n",
       "  'content': \"I'm telling you. Who is on first. What's on second. I Don't Know's on third--\",\n",
       "  'metadata': {'genre': 'comedy', 'year': 1938}},\n",
       " {'id': 7,\n",
       "  'role': 'user',\n",
       "  'content': \"You know the fellows' names?\",\n",
       "  'metadata': {'genre': 'comedy', 'year': 1938}},\n",
       " {'id': 8,\n",
       "  'role': 'assistant',\n",
       "  'content': 'Yes.',\n",
       "  'metadata': {'genre': 'comedy', 'year': 1938}},\n",
       " {'id': 9,\n",
       "  'role': 'user',\n",
       "  'content': \"Well, then who's playing first?\",\n",
       "  'metadata': {'genre': 'comedy', 'year': 1938}},\n",
       " {'id': 10,\n",
       "  'role': 'assistant',\n",
       "  'content': 'Yes.',\n",
       "  'metadata': {'genre': 'comedy', 'year': 1938}},\n",
       " {'id': 11,\n",
       "  'role': 'user',\n",
       "  'content': \"I mean the fellow's name on first base.\",\n",
       "  'metadata': {'genre': 'comedy', 'year': 1938}},\n",
       " {'id': 12,\n",
       "  'role': 'assistant',\n",
       "  'content': 'Who.',\n",
       "  'metadata': {'genre': 'comedy', 'year': 1938}},\n",
       " {'id': 13,\n",
       "  'role': 'user',\n",
       "  'content': \"The fellow playin' first base.\",\n",
       "  'metadata': {'genre': 'comedy', 'year': 1938}},\n",
       " {'id': 14,\n",
       "  'role': 'assistant',\n",
       "  'content': 'Who.',\n",
       "  'metadata': {'genre': 'comedy', 'year': 1938}},\n",
       " {'id': 15,\n",
       "  'role': 'user',\n",
       "  'content': 'The guy on first base.',\n",
       "  'metadata': {'genre': 'comedy', 'year': 1938}},\n",
       " {'id': 16,\n",
       "  'role': 'assistant',\n",
       "  'content': 'Who is on first.',\n",
       "  'metadata': {'genre': 'comedy', 'year': 1938}},\n",
       " {'id': 17,\n",
       "  'role': 'user',\n",
       "  'content': \"Well, what are you askin' me for?\",\n",
       "  'metadata': {'genre': 'comedy', 'year': 1938}},\n",
       " {'id': 18,\n",
       "  'role': 'assistant',\n",
       "  'content': \"I'm not asking you--I'm telling you. Who is on first.\",\n",
       "  'metadata': {'genre': 'comedy', 'year': 1938}},\n",
       " {'id': 19,\n",
       "  'role': 'user',\n",
       "  'content': \"I'm asking you--who's on first?\",\n",
       "  'metadata': {'genre': 'comedy', 'year': 1938}},\n",
       " {'id': 20,\n",
       "  'role': 'assistant',\n",
       "  'content': \"That's the man's name.\",\n",
       "  'metadata': {'genre': 'comedy', 'year': 1938}},\n",
       " {'id': 21,\n",
       "  'role': 'user',\n",
       "  'content': \"That's who's name?\",\n",
       "  'metadata': {'genre': 'comedy', 'year': 1938}},\n",
       " {'id': 22,\n",
       "  'role': 'assistant',\n",
       "  'content': 'Yes.',\n",
       "  'metadata': {'genre': 'comedy', 'year': 1938}}]"
      ]
     },
     "execution_count": 49,
     "metadata": {},
     "output_type": "execute_result"
    }
   ],
   "source": [
    "print('RAW RETURN:')\n",
    "script_from_PG"
   ]
  },
  {
   "attachments": {},
   "cell_type": "markdown",
   "metadata": {},
   "source": [
    "### Cleanup"
   ]
  },
  {
   "cell_type": "code",
   "execution_count": 50,
   "metadata": {},
   "outputs": [],
   "source": [
    "await baseballDB.drop_table()"
   ]
  }
 ],
 "metadata": {
  "kernelspec": {
   "display_name": "env",
   "language": "python",
   "name": "python3"
  },
  "language_info": {
   "codemirror_mode": {
    "name": "ipython",
    "version": 3
   },
   "file_extension": ".py",
   "mimetype": "text/x-python",
   "name": "python",
   "nbconvert_exporter": "python",
   "pygments_lexer": "ipython3",
   "version": "3.11.4"
  },
  "orig_nbformat": 4
 },
 "nbformat": 4,
 "nbformat_minor": 2
}
