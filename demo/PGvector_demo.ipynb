{
 "cells": [
  {
   "attachments": {},
   "cell_type": "markdown",
   "metadata": {},
   "source": [
    "# Database Demo\n",
    "\n",
    "Sample functionality for creating tables, inserting data and running similarity search with OgbujiPT.\n",
    "\n",
    "__Notes:__\n",
    "\n",
    "## Notebook requirements\n",
    "```\n",
    "pip install jupyter pgvector asyncpg sentence_transformers\n",
    "```\n",
    "\n",
    "This notebook will attempt to access a database named `demo_db` at `localhost:5432`, using the username `tester` and password `demodemodemo`. If you have a different setup, you can change the connection string in the first cell. Note: this uses different DB config than what's used for the test suite (in `test/embedding/test_pgvector.py`).\n",
    "\n",
    "## Database requirements\n",
    "Run the following to make a DB/PGVector instance available\n",
    "\n",
    "```sh\n",
    "docker run --name pg_demo_db -p 5432:5432 -e POSTGRES_USER=tester -e POSTGRES_PASSWORD=demodemodemo -e POSTGRES_DB=demo_db -d ankane/pgvector\n",
    "```\n"
   ]
  },
  {
   "attachments": {},
   "cell_type": "markdown",
   "metadata": {},
   "source": [
    "### Initial setup and Imports"
   ]
  },
  {
   "cell_type": "code",
   "execution_count": 9,
   "metadata": {},
   "outputs": [],
   "source": [
    "import uuid\n",
    "\n",
    "from ogbujipt.embedding.pgvector import DocDB, MessageDB\n",
    "\n",
    "from sentence_transformers       import SentenceTransformer\n",
    "\n",
    "DB_NAME = 'demo_db'\n",
    "HOST = 'localhost'\n",
    "PORT = 5432\n",
    "USER = 'tester'\n",
    "PASSWORD = 'demodemodemo'\n",
    "\n",
    "e_model = SentenceTransformer('all-MiniLM-L6-v2')  # Load the embedding model"
   ]
  },
  {
   "attachments": {},
   "cell_type": "markdown",
   "metadata": {},
   "source": [
    "# Document Embedding"
   ]
  },
  {
   "cell_type": "code",
   "execution_count": 10,
   "metadata": {},
   "outputs": [],
   "source": [
    "pacer_copypasta = [  # Demo document\n",
    "    'The FitnessGram™ Pacer Test is a multistage aerobic capacity test that progressively gets more difficult as it continues.', \n",
    "    'The 20 meter pacer test will begin in 30 seconds. Line up at the start.', \n",
    "    'The running speed starts slowly, but gets faster each minute after you hear this signal.', \n",
    "    '[beep] A single lap should be completed each time you hear this sound.', \n",
    "    '[ding] Remember to run in a straight line, and run as long as possible.', \n",
    "    'The second time you fail to complete a lap before the sound, your test is over.', \n",
    "    'The test will begin on the word start. On your mark, get ready, start.'\n",
    "]"
   ]
  },
  {
   "attachments": {},
   "cell_type": "markdown",
   "metadata": {},
   "source": [
    "### Connecting to the database"
   ]
  },
  {
   "cell_type": "code",
   "execution_count": 11,
   "metadata": {},
   "outputs": [],
   "source": [
    "pacerDB = await DocDB.from_conn_params(\n",
    "    embedding_model=e_model, \n",
    "    table_name='pacer',\n",
    "    db_name=DB_NAME,\n",
    "    host=HOST,\n",
    "    port=int(PORT),\n",
    "    user=USER,\n",
    "    password=PASSWORD\n",
    ")"
   ]
  },
  {
   "attachments": {},
   "cell_type": "markdown",
   "metadata": {},
   "source": [
    "### Create Tables"
   ]
  },
  {
   "cell_type": "code",
   "execution_count": 12,
   "metadata": {},
   "outputs": [],
   "source": [
    "await pacerDB.drop_table()    # Drop the table if one is found\n",
    "await pacerDB.create_table()  # Create a new table"
   ]
  },
  {
   "attachments": {},
   "cell_type": "markdown",
   "metadata": {},
   "source": [
    "### Inserting Document"
   ]
  },
  {
   "cell_type": "code",
   "execution_count": 13,
   "metadata": {},
   "outputs": [
    {
     "name": "stdout",
     "output_type": "stream",
     "text": [
      "Inserted 7 document chunks into the table\n"
     ]
    }
   ],
   "source": [
    "for index, text in enumerate(pacer_copypasta):   # For each line in the copypasta\n",
    "    await pacerDB.insert(                        # Insert the line into the table\n",
    "        content=text,                            # The text to be embedded\n",
    "        tags=['fitness', 'pacer', 'copypasta'],  # Tag metadata\n",
    "        title='Pacer Copypasta',                 # Title metadata\n",
    "        page_numbers=[index],                    # Page number metadata\n",
    "    )\n",
    "\n",
    "print(f'Inserted {len(pacer_copypasta)} document chunks into the table')"
   ]
  },
  {
   "attachments": {},
   "cell_type": "markdown",
   "metadata": {},
   "source": [
    "## Similarity search Document"
   ]
  },
  {
   "attachments": {},
   "cell_type": "markdown",
   "metadata": {},
   "source": [
    "## Searching the document with a perfect match"
   ]
  },
  {
   "cell_type": "code",
   "execution_count": 14,
   "metadata": {},
   "outputs": [
    {
     "name": "stdout",
     "output_type": "stream",
     "text": [
      "Semantic Searching data using search string:\n",
      "\"[beep] A single lap should be completed each time you hear this sound.\"\n"
     ]
    }
   ],
   "source": [
    "search_string = '[beep] A single lap should be completed each time you hear this sound.'\n",
    "print(f'Semantic Searching data using search string:\\n\"{search_string}\"')\n",
    "\n",
    "sim_search = await pacerDB.search(\n",
    "    text=search_string,  # string to search by\n",
    "    limit=3                      # Number of results returned\n",
    ")\n",
    "\n",
    "sim_search = list(sim_search)"
   ]
  },
  {
   "cell_type": "code",
   "execution_count": 15,
   "metadata": {},
   "outputs": [
    {
     "name": "stdout",
     "output_type": "stream",
     "text": [
      "RETURNED TITLE:\n",
      "\"Pacer Copypasta\"\n",
      "RETURNED TITLE:\n",
      "\"Pacer Copypasta\"\n",
      "RETURNED CONTENT:\n",
      "\"[beep] A single lap should be completed each time you hear this sound.\"\n",
      "RETURNED COSINE SIMILARITY:\n",
      "1.00\n"
     ]
    }
   ],
   "source": [
    "print(f'RETURNED TITLE:\\n\"{sim_search[0].title}\"')                               # Title of the first result\n",
    "print(f'RETURNED TITLE:\\n\"{sim_search[0][\"title\"]}\"')                            # Dict-style access works too\n",
    "print(f'RETURNED CONTENT:\\n\"{sim_search[0].content}\"')                           # Content of the first result\n",
    "print(f'RETURNED COSINE SIMILARITY:\\n{sim_search[0].cosine_similarity:.2f}')     # Cosine similarity of the first result"
   ]
  },
  {
   "cell_type": "code",
   "execution_count": 16,
   "metadata": {},
   "outputs": [
    {
     "name": "stdout",
     "output_type": "stream",
     "text": [
      "RAW RETURN:\n"
     ]
    },
    {
     "data": {
      "text/plain": [
       "[{'cosine_similarity': 1.0,\n",
       "  'content': '[beep] A single lap should be completed each time you hear this sound.',\n",
       "  'tags': ['fitness', 'pacer', 'copypasta'],\n",
       "  'title': 'Pacer Copypasta',\n",
       "  'page_numbers': [3]},\n",
       " {'cosine_similarity': 0.685540756152295,\n",
       "  'content': 'The second time you fail to complete a lap before the sound, your test is over.',\n",
       "  'tags': ['fitness', 'pacer', 'copypasta'],\n",
       "  'title': 'Pacer Copypasta',\n",
       "  'page_numbers': [5]},\n",
       " {'cosine_similarity': 0.36591741151356405,\n",
       "  'content': 'The running speed starts slowly, but gets faster each minute after you hear this signal.',\n",
       "  'tags': ['fitness', 'pacer', 'copypasta'],\n",
       "  'title': 'Pacer Copypasta',\n",
       "  'page_numbers': [2]}]"
      ]
     },
     "execution_count": 16,
     "metadata": {},
     "output_type": "execute_result"
    }
   ],
   "source": [
    "print(f'RAW RETURN:')\n",
    "sim_search"
   ]
  },
  {
   "attachments": {},
   "cell_type": "markdown",
   "metadata": {},
   "source": [
    "## Searching the document with a partial match"
   ]
  },
  {
   "cell_type": "code",
   "execution_count": 17,
   "metadata": {},
   "outputs": [
    {
     "name": "stdout",
     "output_type": "stream",
     "text": [
      "Semantic Searching data using search string:\n",
      "\"straight\"\n"
     ]
    }
   ],
   "source": [
    "search_string = 'straight'\n",
    "print(f'Semantic Searching data using search string:\\n\"{search_string}\"')\n",
    "\n",
    "sim_search = await pacerDB.search(\n",
    "    text=search_string,  # string to search by\n",
    "    limit=3                      # Number of results returned\n",
    ")"
   ]
  },
  {
   "cell_type": "code",
   "execution_count": 18,
   "metadata": {},
   "outputs": [
    {
     "name": "stdout",
     "output_type": "stream",
     "text": [
      "RETURNED TITLE:\n",
      "\"Pacer Copypasta\"\n",
      "RETURNED CONTENT:\n",
      "\"[ding] Remember to run in a straight line, and run as long as possible.\"\n",
      "RETURNED COSINE SIMILARITY:\n",
      "0.28\n"
     ]
    }
   ],
   "source": [
    "row1 = next(sim_search)\n",
    "print(f'RETURNED TITLE:\\n\"{row1.title}\"')                               # Title of the first result\n",
    "print(f'RETURNED CONTENT:\\n\"{row1.content}\"')                           # Content of the first result\n",
    "print(f'RETURNED COSINE SIMILARITY:\\n{row1.cosine_similarity:.2f}')     # Cosine similarity of the first result"
   ]
  },
  {
   "cell_type": "code",
   "execution_count": 19,
   "metadata": {},
   "outputs": [
    {
     "name": "stdout",
     "output_type": "stream",
     "text": [
      "Remaining rows:\n"
     ]
    },
    {
     "data": {
      "text/plain": [
       "[{'cosine_similarity': 0.10402820694362547,\n",
       "  'content': 'The test will begin on the word start. On your mark, get ready, start.',\n",
       "  'tags': ['fitness', 'pacer', 'copypasta'],\n",
       "  'title': 'Pacer Copypasta',\n",
       "  'page_numbers': [6]},\n",
       " {'cosine_similarity': 0.07991296083513344,\n",
       "  'content': 'The running speed starts slowly, but gets faster each minute after you hear this signal.',\n",
       "  'tags': ['fitness', 'pacer', 'copypasta'],\n",
       "  'title': 'Pacer Copypasta',\n",
       "  'page_numbers': [2]}]"
      ]
     },
     "execution_count": 19,
     "metadata": {},
     "output_type": "execute_result"
    }
   ],
   "source": [
    "# It's a generator, an we already pulled the 1st of 3 rows, sso there will be 2 left\n",
    "print('Remaining rows:')  \n",
    "list(sim_search)"
   ]
  },
  {
   "attachments": {},
   "cell_type": "markdown",
   "metadata": {},
   "source": [
    "## Searching the document utilizing filters"
   ]
  },
  {
   "cell_type": "code",
   "execution_count": 20,
   "metadata": {},
   "outputs": [
    {
     "name": "stdout",
     "output_type": "stream",
     "text": [
      "Semantic Searching data using search string:\n",
      "\"straight\"\n"
     ]
    }
   ],
   "source": [
    "search_string = 'straight'\n",
    "print(f'Semantic Searching data using search string:\\n\"{search_string}\"')\n",
    "\n",
    "sim_search = await pacerDB.search(\n",
    "    text=search_string,     # string to search by\n",
    "    query_title='Pacer Copypasta',  # title to search by\n",
    "    query_page_numbers=[3, 4, 5],   # Page number metadata\n",
    "    tags=['fitness'],         # Tag metadata\n",
    "    conjunctive=False,              # Conjunctive search\n",
    ")"
   ]
  },
  {
   "cell_type": "code",
   "execution_count": 21,
   "metadata": {},
   "outputs": [
    {
     "name": "stdout",
     "output_type": "stream",
     "text": [
      "RETURNED TITLE:\n",
      "\"Pacer Copypasta\"\n",
      "RETURNED CONTENT:\n",
      "\"[ding] Remember to run in a straight line, and run as long as possible.\"\n",
      "RETURNED COSINE SIMILARITY:\n",
      "0.28\n"
     ]
    }
   ],
   "source": [
    "row1 = next(sim_search)\n",
    "print(f'RETURNED TITLE:\\n\"{row1.title}\"')                               # Title of the first result\n",
    "print(f'RETURNED CONTENT:\\n\"{row1.content}\"')                           # Content of the first result\n",
    "print(f'RETURNED COSINE SIMILARITY:\\n{row1.cosine_similarity:.2f}')     # Cosine similarity of the first result"
   ]
  },
  {
   "cell_type": "code",
   "execution_count": 22,
   "metadata": {},
   "outputs": [
    {
     "name": "stdout",
     "output_type": "stream",
     "text": [
      "Remaining rows:\n"
     ]
    },
    {
     "data": {
      "text/plain": [
       "[{'cosine_similarity': 0.03522806719625193,\n",
       "  'content': 'The second time you fail to complete a lap before the sound, your test is over.',\n",
       "  'tags': ['fitness', 'pacer', 'copypasta'],\n",
       "  'title': 'Pacer Copypasta',\n",
       "  'page_numbers': [5]},\n",
       " {'cosine_similarity': 0.0076252953037795335,\n",
       "  'content': '[beep] A single lap should be completed each time you hear this sound.',\n",
       "  'tags': ['fitness', 'pacer', 'copypasta'],\n",
       "  'title': 'Pacer Copypasta',\n",
       "  'page_numbers': [3]}]"
      ]
     },
     "execution_count": 22,
     "metadata": {},
     "output_type": "execute_result"
    }
   ],
   "source": [
    "# It's a generator, an we already pulled the 1st of 3 rows, sso there will be 2 left\n",
    "print('Remaining rows:')  \n",
    "list(sim_search)"
   ]
  },
  {
   "attachments": {},
   "cell_type": "markdown",
   "metadata": {},
   "source": [
    "## (Cleanup)"
   ]
  },
  {
   "cell_type": "code",
   "execution_count": 23,
   "metadata": {},
   "outputs": [],
   "source": [
    "await pacerDB.drop_table()"
   ]
  },
  {
   "attachments": {},
   "cell_type": "markdown",
   "metadata": {},
   "source": [
    "# Chatlog Embedding"
   ]
  },
  {
   "cell_type": "code",
   "execution_count": 24,
   "metadata": {},
   "outputs": [],
   "source": [
    "abbott_and_costello = [  # Demo chatlog\n",
    "    {'role': 'system', 'content': 'The user is considering becoming a ballplayer. The assistant wants to make sure they know what they\\'re getting into.'},\n",
    "    {'role': 'assistant', 'content': 'Strange as it may seem, they give ball players nowadays very peculiar names.'},\n",
    "    {'role': 'user', 'content': 'Funny names?'},\n",
    "    {'role': 'assistant', 'content': 'Nicknames, nicknames. Now, on the St. Louis team we have Who\\'s on first, What\\'s on second, I Don\\'t Know is on third--'},\n",
    "    {'role': 'user', 'content': 'That\\'s what I want to find out. I want you to tell me the names of the fellows on the St. Louis team.'},\n",
    "    {'role': 'assistant', 'content': \"I'm telling you. Who is on first. What's on second. I Don't Know's on third--\"},\n",
    "    {'role': 'user', 'content': \"You know the fellows' names?\"},\n",
    "    {'role': 'assistant', 'content': 'Yes.'},\n",
    "    {'role': 'user', 'content': \"Well, then who's playing first?\"},\n",
    "    {'role': 'assistant', 'content': 'Yes.'},\n",
    "    {'role': 'user', 'content': \"I mean the fellow's name on first base.\"},\n",
    "    {'role': 'assistant', 'content': 'Who.'},\n",
    "    {'role': 'user', 'content': \"The fellow playin' first base.\"},\n",
    "    {'role': 'assistant', 'content': 'Who.'},\n",
    "    {'role': 'user', 'content': \"The guy on first base.\"},\n",
    "    {'role': 'assistant', 'content': 'Who is on first.'},\n",
    "    {'role': 'user', 'content': \"Well, what are you askin' me for?\"},\n",
    "    {'role': 'assistant', 'content': \"I'm not asking you--I'm telling you. Who is on first.\"},\n",
    "    {'role': 'user', 'content': \"I'm asking you--who's on first?\"},\n",
    "    {'role': 'assistant', 'content': 'That\\'s the man\\'s name.'},\n",
    "    {'role': 'user', 'content': \"That's who's name?\"},\n",
    "    {'role': 'assistant', 'content': 'Yes.'},\n",
    "]"
   ]
  },
  {
   "attachments": {},
   "cell_type": "markdown",
   "metadata": {},
   "source": [
    "### Connecting to the database"
   ]
  },
  {
   "cell_type": "code",
   "execution_count": 25,
   "metadata": {},
   "outputs": [],
   "source": [
    "baseballDB = await MessageDB.from_conn_params(\n",
    "    embedding_model=e_model, \n",
    "    table_name='baseball',\n",
    "    user=USER,\n",
    "    password=PASSWORD,\n",
    "    db_name=DB_NAME,\n",
    "    host=HOST,\n",
    "    port=int(PORT)\n",
    ")"
   ]
  },
  {
   "attachments": {},
   "cell_type": "markdown",
   "metadata": {},
   "source": [
    "### Create Tables"
   ]
  },
  {
   "cell_type": "code",
   "execution_count": 26,
   "metadata": {},
   "outputs": [],
   "source": [
    "await baseballDB.drop_table()    # Drop the table if one is found\n",
    "await baseballDB.create_table()  # Create a new table"
   ]
  },
  {
   "attachments": {},
   "cell_type": "markdown",
   "metadata": {},
   "source": [
    "### Inserting Chatlog"
   ]
  },
  {
   "cell_type": "code",
   "execution_count": 27,
   "metadata": {},
   "outputs": [
    {
     "name": "stdout",
     "output_type": "stream",
     "text": [
      "Inserted 22 lines of dialog into the table with history key \"1817351e-e9ad-4a84-bbc1-e703b0158f83\".\n"
     ]
    }
   ],
   "source": [
    "history_key = uuid.uuid4()        # Generate a key for the chatlog\n",
    "for line in abbott_and_costello:  # For each line of dialog in the script\n",
    "    await baseballDB.insert(      # Insert the message into the table\n",
    "        history_key=history_key,  # The key for the chatlog\n",
    "        role=line['role'],\n",
    "        content=line['content'],\n",
    "        metadata={'genre': 'comedy', 'year': 1938}\n",
    "    )\n",
    "print(f'Inserted {len(abbott_and_costello)} lines of dialog into the table with history key \"{history_key}\".')"
   ]
  },
  {
   "attachments": {},
   "cell_type": "markdown",
   "metadata": {},
   "source": [
    "## Searching the chatlog with a perfect match"
   ]
  },
  {
   "cell_type": "code",
   "execution_count": 28,
   "metadata": {},
   "outputs": [
    {
     "name": "stdout",
     "output_type": "stream",
     "text": [
      "Semantic Searching data using search string: \"nickname\"\n"
     ]
    }
   ],
   "source": [
    "search_string = 'nickname'\n",
    "print(f'Semantic Searching data using search string: \"{search_string}\"')\n",
    "\n",
    "sim_search = await baseballDB.search(\n",
    "    history_key=history_key,\n",
    "    text=search_string,\n",
    "    limit=3\n",
    ")"
   ]
  },
  {
   "cell_type": "code",
   "execution_count": 29,
   "metadata": {},
   "outputs": [
    {
     "name": "stdout",
     "output_type": "stream",
     "text": [
      "RETURNED TIMESTAMP:\n",
      "2024-01-11 20:04:18.978286+00:00\n",
      "RETURNED MESSAGE:\n",
      "assistant: Nicknames, nicknames. Now, on the St. Louis team we have Who's on first, What's on second, I Don't Know is on third--\n",
      "RETURNED COSINE SIMILARITY:\n",
      "0.51\n"
     ]
    }
   ],
   "source": [
    "row1 = next(sim_search)\n",
    "print(f'RETURNED TIMESTAMP:\\n{row1.ts}')                              # Print the timestamp of the first result\n",
    "print(f'RETURNED MESSAGE:\\n{row1.role}: {row1.content}')  # Print the message of the first result\n",
    "print(f'RETURNED COSINE SIMILARITY:\\n{row1.cosine_similarity:.2f}')   # Print the cosine similarity of the first result"
   ]
  },
  {
   "cell_type": "code",
   "execution_count": 30,
   "metadata": {},
   "outputs": [
    {
     "name": "stdout",
     "output_type": "stream",
     "text": [
      "Remaining rows:\n"
     ]
    },
    {
     "data": {
      "text/plain": [
       "[{'ts': datetime.datetime(2024, 1, 11, 20, 4, 18, 944014, tzinfo=datetime.timezone.utc),\n",
       "  'role': 'user',\n",
       "  'content': 'Funny names?',\n",
       "  'metadata': {'genre': 'comedy', 'year': 1938},\n",
       "  'cosine_similarity': 0.43868311874169896},\n",
       " {'ts': datetime.datetime(2024, 1, 11, 20, 4, 19, 531955, tzinfo=datetime.timezone.utc),\n",
       "  'role': 'assistant',\n",
       "  'content': \"That's the man's name.\",\n",
       "  'metadata': {'genre': 'comedy', 'year': 1938},\n",
       "  'cosine_similarity': 0.4270046905878009}]"
      ]
     },
     "execution_count": 30,
     "metadata": {},
     "output_type": "execute_result"
    }
   ],
   "source": [
    "# It's a generator, an we already pulled the 1st of 3 rows, sso there will be 2 left\n",
    "print('Remaining rows:')  \n",
    "list(sim_search)"
   ]
  },
  {
   "attachments": {},
   "cell_type": "markdown",
   "metadata": {},
   "source": [
    "## Searching the chatlog with a partial match"
   ]
  },
  {
   "cell_type": "code",
   "execution_count": 31,
   "metadata": {},
   "outputs": [
    {
     "name": "stdout",
     "output_type": "stream",
     "text": [
      "Semantic Searching data using search string: \"nickname\"\n"
     ]
    }
   ],
   "source": [
    "search_string = 'nickname'\n",
    "print(f'Semantic Searching data using search string: \"{search_string}\"')\n",
    "\n",
    "sim_search = await baseballDB.search(\n",
    "    history_key=history_key,\n",
    "    text=search_string,\n",
    "    limit=3\n",
    ")"
   ]
  },
  {
   "cell_type": "code",
   "execution_count": 32,
   "metadata": {},
   "outputs": [
    {
     "name": "stdout",
     "output_type": "stream",
     "text": [
      "RETURNED TIMESTAMP:\n",
      "2024-01-11 20:04:18.978286+00:00\n",
      "RETURNED MESSAGE:\n",
      "assistant: Nicknames, nicknames. Now, on the St. Louis team we have Who's on first, What's on second, I Don't Know is on third--\n",
      "RETURNED COSINE SIMILARITY:\n",
      "0.51\n"
     ]
    }
   ],
   "source": [
    "row1 = next(sim_search)\n",
    "print(f'RETURNED TIMESTAMP:\\n{row1.ts}')                              # Print the timestamp of the first result\n",
    "print(f'RETURNED MESSAGE:\\n{row1.role}: {row1.content}')  # Print the message of the first result\n",
    "print(f'RETURNED COSINE SIMILARITY:\\n{row1.cosine_similarity:.2f}')   # Print the cosine similarity of the first result"
   ]
  },
  {
   "cell_type": "code",
   "execution_count": 33,
   "metadata": {},
   "outputs": [
    {
     "name": "stdout",
     "output_type": "stream",
     "text": [
      "Remaining rows:\n"
     ]
    },
    {
     "data": {
      "text/plain": [
       "[{'ts': datetime.datetime(2024, 1, 11, 20, 4, 18, 944014, tzinfo=datetime.timezone.utc),\n",
       "  'role': 'user',\n",
       "  'content': 'Funny names?',\n",
       "  'metadata': {'genre': 'comedy', 'year': 1938},\n",
       "  'cosine_similarity': 0.43868311874169896},\n",
       " {'ts': datetime.datetime(2024, 1, 11, 20, 4, 19, 531955, tzinfo=datetime.timezone.utc),\n",
       "  'role': 'assistant',\n",
       "  'content': \"That's the man's name.\",\n",
       "  'metadata': {'genre': 'comedy', 'year': 1938},\n",
       "  'cosine_similarity': 0.4270046905878009}]"
      ]
     },
     "execution_count": 33,
     "metadata": {},
     "output_type": "execute_result"
    }
   ],
   "source": [
    "# It's a generator, an we already pulled the 1st of 3 rows, sso there will be 2 left\n",
    "print('Remaining rows:')  \n",
    "list(sim_search)"
   ]
  },
  {
   "attachments": {},
   "cell_type": "markdown",
   "metadata": {},
   "source": [
    "## Retrieving the entire chatlog"
   ]
  },
  {
   "cell_type": "code",
   "execution_count": 34,
   "metadata": {},
   "outputs": [
    {
     "name": "stdout",
     "output_type": "stream",
     "text": [
      "Retreiving chatlog \"1817351e-e9ad-4a84-bbc1-e703b0158f83\" from database\n"
     ]
    }
   ],
   "source": [
    "print(f'Retreiving chatlog \"{history_key}\" from database')\n",
    "script_from_PG = await baseballDB.get_table(history_key=history_key)"
   ]
  },
  {
   "cell_type": "code",
   "execution_count": 35,
   "metadata": {},
   "outputs": [
    {
     "name": "stdout",
     "output_type": "stream",
     "text": [
      "RETURNED CHATLOG:\n",
      "system: The user is considering becoming a ballplayer. The assistant wants to make sure they knows what they're getting into.\n",
      "assistant: Strange as it may seem, they give ball players nowadays very peculiar names.\n",
      "user: Funny names?\n",
      "assistant: Nicknames, nicknames. Now, on the St. Louis team we have Who's on first, What's on second, I Don't Know is on third--\n",
      "user: That's what I want to find out. I want you to tell me the names of the fellows on the St. Louis team.\n",
      "assistant: I'm telling you. Who is on first. What's on second. I Don't Know's on third--\n",
      "user: You know the fellows' names?\n",
      "assistant: Yes.\n",
      "user: Well, then who's playing first?\n",
      "assistant: Yes.\n",
      "user: I mean the fellow's name on first base.\n",
      "assistant: Who.\n",
      "user: The fellow playin' first base.\n",
      "assistant: Who.\n",
      "user: The guy on first base.\n",
      "assistant: Who is on first.\n",
      "user: Well, what are you askin' me for?\n",
      "assistant: I'm not asking you--I'm telling you. Who is on first.\n",
      "user: I'm asking you--who's on first?\n",
      "assistant: That's the man's name.\n",
      "user: That's who's name?\n",
      "assistant: Yes.\n"
     ]
    }
   ],
   "source": [
    "print('RETURNED CHATLOG:')\n",
    "for message in script_from_PG:\n",
    "    print(f'{message[\"role\"]}: {message[\"content\"]}')"
   ]
  },
  {
   "cell_type": "code",
   "execution_count": 36,
   "metadata": {},
   "outputs": [
    {
     "name": "stdout",
     "output_type": "stream",
     "text": [
      "RAW RETURN:\n"
     ]
    },
    {
     "data": {
      "text/plain": [
       "[{'ts': datetime.datetime(2024, 1, 11, 20, 4, 18, 844919, tzinfo=datetime.timezone.utc),\n",
       "  'role': 'system',\n",
       "  'content': \"The user is considering becoming a ballplayer. The assistant wants to make sure they knows what they're getting into.\",\n",
       "  'metadata': {'genre': 'comedy', 'year': 1938}},\n",
       " {'ts': datetime.datetime(2024, 1, 11, 20, 4, 18, 902556, tzinfo=datetime.timezone.utc),\n",
       "  'role': 'assistant',\n",
       "  'content': 'Strange as it may seem, they give ball players nowadays very peculiar names.',\n",
       "  'metadata': {'genre': 'comedy', 'year': 1938}},\n",
       " {'ts': datetime.datetime(2024, 1, 11, 20, 4, 18, 944014, tzinfo=datetime.timezone.utc),\n",
       "  'role': 'user',\n",
       "  'content': 'Funny names?',\n",
       "  'metadata': {'genre': 'comedy', 'year': 1938}},\n",
       " {'ts': datetime.datetime(2024, 1, 11, 20, 4, 18, 978286, tzinfo=datetime.timezone.utc),\n",
       "  'role': 'assistant',\n",
       "  'content': \"Nicknames, nicknames. Now, on the St. Louis team we have Who's on first, What's on second, I Don't Know is on third--\",\n",
       "  'metadata': {'genre': 'comedy', 'year': 1938}},\n",
       " {'ts': datetime.datetime(2024, 1, 11, 20, 4, 19, 11201, tzinfo=datetime.timezone.utc),\n",
       "  'role': 'user',\n",
       "  'content': \"That's what I want to find out. I want you to tell me the names of the fellows on the St. Louis team.\",\n",
       "  'metadata': {'genre': 'comedy', 'year': 1938}},\n",
       " {'ts': datetime.datetime(2024, 1, 11, 20, 4, 19, 39617, tzinfo=datetime.timezone.utc),\n",
       "  'role': 'assistant',\n",
       "  'content': \"I'm telling you. Who is on first. What's on second. I Don't Know's on third--\",\n",
       "  'metadata': {'genre': 'comedy', 'year': 1938}},\n",
       " {'ts': datetime.datetime(2024, 1, 11, 20, 4, 19, 80017, tzinfo=datetime.timezone.utc),\n",
       "  'role': 'user',\n",
       "  'content': \"You know the fellows' names?\",\n",
       "  'metadata': {'genre': 'comedy', 'year': 1938}},\n",
       " {'ts': datetime.datetime(2024, 1, 11, 20, 4, 19, 116752, tzinfo=datetime.timezone.utc),\n",
       "  'role': 'assistant',\n",
       "  'content': 'Yes.',\n",
       "  'metadata': {'genre': 'comedy', 'year': 1938}},\n",
       " {'ts': datetime.datetime(2024, 1, 11, 20, 4, 19, 147738, tzinfo=datetime.timezone.utc),\n",
       "  'role': 'user',\n",
       "  'content': \"Well, then who's playing first?\",\n",
       "  'metadata': {'genre': 'comedy', 'year': 1938}},\n",
       " {'ts': datetime.datetime(2024, 1, 11, 20, 4, 19, 182287, tzinfo=datetime.timezone.utc),\n",
       "  'role': 'assistant',\n",
       "  'content': 'Yes.',\n",
       "  'metadata': {'genre': 'comedy', 'year': 1938}},\n",
       " {'ts': datetime.datetime(2024, 1, 11, 20, 4, 19, 215995, tzinfo=datetime.timezone.utc),\n",
       "  'role': 'user',\n",
       "  'content': \"I mean the fellow's name on first base.\",\n",
       "  'metadata': {'genre': 'comedy', 'year': 1938}},\n",
       " {'ts': datetime.datetime(2024, 1, 11, 20, 4, 19, 247358, tzinfo=datetime.timezone.utc),\n",
       "  'role': 'assistant',\n",
       "  'content': 'Who.',\n",
       "  'metadata': {'genre': 'comedy', 'year': 1938}},\n",
       " {'ts': datetime.datetime(2024, 1, 11, 20, 4, 19, 276965, tzinfo=datetime.timezone.utc),\n",
       "  'role': 'user',\n",
       "  'content': \"The fellow playin' first base.\",\n",
       "  'metadata': {'genre': 'comedy', 'year': 1938}},\n",
       " {'ts': datetime.datetime(2024, 1, 11, 20, 4, 19, 314705, tzinfo=datetime.timezone.utc),\n",
       "  'role': 'assistant',\n",
       "  'content': 'Who.',\n",
       "  'metadata': {'genre': 'comedy', 'year': 1938}},\n",
       " {'ts': datetime.datetime(2024, 1, 11, 20, 4, 19, 349385, tzinfo=datetime.timezone.utc),\n",
       "  'role': 'user',\n",
       "  'content': 'The guy on first base.',\n",
       "  'metadata': {'genre': 'comedy', 'year': 1938}},\n",
       " {'ts': datetime.datetime(2024, 1, 11, 20, 4, 19, 386689, tzinfo=datetime.timezone.utc),\n",
       "  'role': 'assistant',\n",
       "  'content': 'Who is on first.',\n",
       "  'metadata': {'genre': 'comedy', 'year': 1938}},\n",
       " {'ts': datetime.datetime(2024, 1, 11, 20, 4, 19, 426917, tzinfo=datetime.timezone.utc),\n",
       "  'role': 'user',\n",
       "  'content': \"Well, what are you askin' me for?\",\n",
       "  'metadata': {'genre': 'comedy', 'year': 1938}},\n",
       " {'ts': datetime.datetime(2024, 1, 11, 20, 4, 19, 460490, tzinfo=datetime.timezone.utc),\n",
       "  'role': 'assistant',\n",
       "  'content': \"I'm not asking you--I'm telling you. Who is on first.\",\n",
       "  'metadata': {'genre': 'comedy', 'year': 1938}},\n",
       " {'ts': datetime.datetime(2024, 1, 11, 20, 4, 19, 494376, tzinfo=datetime.timezone.utc),\n",
       "  'role': 'user',\n",
       "  'content': \"I'm asking you--who's on first?\",\n",
       "  'metadata': {'genre': 'comedy', 'year': 1938}},\n",
       " {'ts': datetime.datetime(2024, 1, 11, 20, 4, 19, 531955, tzinfo=datetime.timezone.utc),\n",
       "  'role': 'assistant',\n",
       "  'content': \"That's the man's name.\",\n",
       "  'metadata': {'genre': 'comedy', 'year': 1938}},\n",
       " {'ts': datetime.datetime(2024, 1, 11, 20, 4, 19, 561439, tzinfo=datetime.timezone.utc),\n",
       "  'role': 'user',\n",
       "  'content': \"That's who's name?\",\n",
       "  'metadata': {'genre': 'comedy', 'year': 1938}},\n",
       " {'ts': datetime.datetime(2024, 1, 11, 20, 4, 19, 596250, tzinfo=datetime.timezone.utc),\n",
       "  'role': 'assistant',\n",
       "  'content': 'Yes.',\n",
       "  'metadata': {'genre': 'comedy', 'year': 1938}}]"
      ]
     },
     "execution_count": 36,
     "metadata": {},
     "output_type": "execute_result"
    }
   ],
   "source": [
    "print('RAW RETURN:')\n",
    "script_from_PG"
   ]
  },
  {
   "attachments": {},
   "cell_type": "markdown",
   "metadata": {},
   "source": [
    "## (Cleanup)"
   ]
  },
  {
   "cell_type": "code",
   "execution_count": 37,
   "metadata": {},
   "outputs": [],
   "source": [
    "await baseballDB.drop_table()"
   ]
  }
 ],
 "metadata": {
  "kernelspec": {
   "display_name": "env",
   "language": "python",
   "name": "python3"
  },
  "language_info": {
   "codemirror_mode": {
    "name": "ipython",
    "version": 3
   },
   "file_extension": ".py",
   "mimetype": "text/x-python",
   "name": "python",
   "nbconvert_exporter": "python",
   "pygments_lexer": "ipython3",
   "version": "3.11.6"
  },
  "orig_nbformat": 4
 },
 "nbformat": 4,
 "nbformat_minor": 2
}
