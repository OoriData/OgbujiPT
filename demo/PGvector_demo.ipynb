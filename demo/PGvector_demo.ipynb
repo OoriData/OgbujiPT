{
 "cells": [
  {
   "attachments": {},
   "cell_type": "markdown",
   "metadata": {},
   "source": [
    "# Database Demo\n",
    "\n",
    "Sample functionality for creating tables, inserting data and running similarity search with OgbujiPT.\n",
    "\n",
    "__Notes:__\n",
    "\n",
    "## Notebook requirements\n",
    "```\n",
    "pip install jupyter pgvector asyncpg sentence_transformers ogbujipt\n",
    "```\n",
    "\n",
    "This notebook will attempt to access a database named `demo_db` at `localhost:5432`, using the username `tester` and password `demodemodemo`. If you have a different setup, you can change the connection string in the first cell. Note: this uses different DB config than what's used for the test suite (in `test/embedding/test_pgvector.py`).\n",
    "\n",
    "## Database requirements\n",
    "This demo presumes the use of a [PostgreSQL](https://www.postgresql.org) database with the [pgvector extension](https://github.com/pgvector/pgvector)\n",
    "\n",
    "Run the following to make a DB/PGVector instance available:\n",
    "```sh\n",
    "docker run --name pg_demo_db -p 5432:5432 -e POSTGRES_USER=tester -e POSTGRES_PASSWORD=demodemodemo -e POSTGRES_DB=demo_db -d ankane/pgvector\n",
    "```"
   ]
  },
  {
   "attachments": {},
   "cell_type": "markdown",
   "metadata": {},
   "source": [
    "## Initial setup and Imports"
   ]
  },
  {
   "cell_type": "code",
   "execution_count": 107,
   "metadata": {},
   "outputs": [],
   "source": [
    "import uuid\n",
    "\n",
    "from ogbujipt.embedding.pgvector import DataDB, MessageDB\n",
    "\n",
    "from sentence_transformers import SentenceTransformer  # This can take a long time!\n",
    "\n",
    "DB_NAME = 'demo_db'\n",
    "HOST = 'localhost'\n",
    "PORT = 5432\n",
    "USER = 'tester'\n",
    "PASSWORD = 'demodemodemo'\n",
    "\n",
    "e_model = SentenceTransformer('all-MiniLM-L6-v2')  # Load the embedding model; this can also take a long time!"
   ]
  },
  {
   "attachments": {},
   "cell_type": "markdown",
   "metadata": {},
   "source": [
    "# Document Embedding"
   ]
  },
  {
   "cell_type": "code",
   "execution_count": 108,
   "metadata": {},
   "outputs": [],
   "source": [
    "pacer_copypasta = [  # Demo document\n",
    "    'The FitnessGram™ Pacer Test is a multistage aerobic capacity test that progressively gets more difficult as it continues.', \n",
    "    'The 20 meter pacer test will begin in 30 seconds. Line up at the start.', \n",
    "    'The running speed starts slowly, but gets faster each minute after you hear this signal.', \n",
    "    '[beep] A single lap should be completed each time you hear this sound.', \n",
    "    '[ding] Remember to run in a straight line, and run as long as possible.', \n",
    "    'The second time you fail to complete a lap before the sound, your test is over.', \n",
    "    'The test will begin on the word start. On your mark, get ready, start.'\n",
    "]"
   ]
  },
  {
   "attachments": {},
   "cell_type": "markdown",
   "metadata": {},
   "source": [
    "### Connecting to the database"
   ]
  },
  {
   "cell_type": "code",
   "execution_count": 145,
   "metadata": {},
   "outputs": [],
   "source": [
    "pacerDB = await DataDB.from_conn_params(\n",
    "    embedding_model=e_model, \n",
    "    table_name='pacer',\n",
    "    db_name=DB_NAME,\n",
    "    host=HOST,\n",
    "    port=int(PORT),\n",
    "    user=USER,\n",
    "    password=PASSWORD\n",
    ")"
   ]
  },
  {
   "attachments": {},
   "cell_type": "markdown",
   "metadata": {},
   "source": [
    "### Create Tables"
   ]
  },
  {
   "cell_type": "code",
   "execution_count": 146,
   "metadata": {},
   "outputs": [],
   "source": [
    "await pacerDB.drop_table()    # Drop the table if one is found\n",
    "await pacerDB.create_table()  # Create a new table"
   ]
  },
  {
   "attachments": {},
   "cell_type": "markdown",
   "metadata": {},
   "source": [
    "### Inserting Document"
   ]
  },
  {
   "cell_type": "code",
   "execution_count": 147,
   "metadata": {},
   "outputs": [
    {
     "name": "stdout",
     "output_type": "stream",
     "text": [
      "Inserted 7 document chunks into the table\n"
     ]
    }
   ],
   "source": [
    "for index, text in enumerate(pacer_copypasta):          # For each line in the copypasta\n",
    "    await pacerDB.insert(                               # Insert the line into the table\n",
    "        content=text,                                   # The text to be embedded\n",
    "        metadata={\n",
    "            'title': 'Pacer Copypasta',                 # Title metadata\n",
    "            'tags': ['fitness', 'pacer', 'copypasta'],  # Tag metadata\n",
    "            'page_numbers': index,                      # Page number metadata\n",
    "        }                               \n",
    "    )\n",
    "\n",
    "print(f'Inserted {len(pacer_copypasta)} document chunks into the table')"
   ]
  },
  {
   "attachments": {},
   "cell_type": "markdown",
   "metadata": {},
   "source": [
    "## Similarity search Document"
   ]
  },
  {
   "attachments": {},
   "cell_type": "markdown",
   "metadata": {},
   "source": [
    "## Searching the document with a perfect match"
   ]
  },
  {
   "cell_type": "code",
   "execution_count": 112,
   "metadata": {},
   "outputs": [
    {
     "name": "stdout",
     "output_type": "stream",
     "text": [
      "Semantic Searching data using search string:\n",
      "\"[beep] A single lap should be completed each time you hear this sound.\"\n"
     ]
    }
   ],
   "source": [
    "search_string = '[beep] A single lap should be completed each time you hear this sound.'\n",
    "k = 3\n",
    "print(f'Semantic Searching data using search string:\\n\"{search_string}\"')\n",
    "\n",
    "sim_search = await pacerDB.search(\n",
    "    text=search_string,  # string to search by\n",
    "    limit=k              # Number of results returned\n",
    ")\n",
    "\n",
    "sim_search = list(sim_search)"
   ]
  },
  {
   "cell_type": "code",
   "execution_count": 113,
   "metadata": {},
   "outputs": [
    {
     "name": "stdout",
     "output_type": "stream",
     "text": [
      "{'cosine_similarity': 1.0, 'content': '[beep] A single lap should be completed each time you hear this sound.', 'metadata': {'title': 'Pacer Copypasta', 'tags': ['fitness', 'pacer', 'copypasta'], 'page_numbers': 3}}\n",
      "RETURNED TITLE:\n",
      "\"Pacer Copypasta\"\n",
      "RETURNED TITLE:\n",
      "\"Pacer Copypasta\"\n",
      "RETURNED CONTENT:\n",
      "\"[beep] A single lap should be completed each time you hear this sound.\"\n",
      "RETURNED COSINE SIMILARITY:\n",
      "1.00\n"
     ]
    }
   ],
   "source": [
    "print(sim_search[0])\n",
    "print(f'RETURNED TITLE:\\n\"{sim_search[0].metadata[\"title\"]}\"')                # Title of the first result\n",
    "print(f'RETURNED TITLE:\\n\"{sim_search[0][\"metadata\"][\"title\"]}\"')             # Dict-style access works too\n",
    "print(f'RETURNED CONTENT:\\n\"{sim_search[0].content}\"')                        # Content of the first result\n",
    "print(f'RETURNED COSINE SIMILARITY:\\n{sim_search[0].cosine_similarity:.2f}')  # Cosine similarity of the first result"
   ]
  },
  {
   "cell_type": "code",
   "execution_count": 114,
   "metadata": {},
   "outputs": [
    {
     "name": "stdout",
     "output_type": "stream",
     "text": [
      "RAW RETURN:\n"
     ]
    },
    {
     "data": {
      "text/plain": [
       "[{'cosine_similarity': 1.0,\n",
       "  'content': '[beep] A single lap should be completed each time you hear this sound.',\n",
       "  'metadata': {'title': 'Pacer Copypasta',\n",
       "   'tags': ['fitness', 'pacer', 'copypasta'],\n",
       "   'page_numbers': 3}},\n",
       " {'cosine_similarity': 0.6855406965476485,\n",
       "  'content': 'The second time you fail to complete a lap before the sound, your test is over.',\n",
       "  'metadata': {'title': 'Pacer Copypasta',\n",
       "   'tags': ['fitness', 'pacer', 'copypasta'],\n",
       "   'page_numbers': 5}},\n",
       " {'cosine_similarity': 0.3659174144268036,\n",
       "  'content': 'The running speed starts slowly, but gets faster each minute after you hear this signal.',\n",
       "  'metadata': {'title': 'Pacer Copypasta',\n",
       "   'tags': ['fitness', 'pacer', 'copypasta'],\n",
       "   'page_numbers': 2}}]"
      ]
     },
     "execution_count": 114,
     "metadata": {},
     "output_type": "execute_result"
    }
   ],
   "source": [
    "print(f'RAW RETURN:')\n",
    "sim_search"
   ]
  },
  {
   "attachments": {},
   "cell_type": "markdown",
   "metadata": {},
   "source": [
    "## Searching the document with a partial match"
   ]
  },
  {
   "cell_type": "code",
   "execution_count": 115,
   "metadata": {},
   "outputs": [
    {
     "name": "stdout",
     "output_type": "stream",
     "text": [
      "Semantic Searching data using search string:\n",
      "\"straight\"\n"
     ]
    }
   ],
   "source": [
    "search_string = 'straight'\n",
    "k = 3\n",
    "print(f'Semantic Searching data using search string:\\n\"{search_string}\"')\n",
    "\n",
    "sim_search = await pacerDB.search(\n",
    "    text=search_string,  # string to search by\n",
    "    limit=k              # Number of results returned\n",
    ")"
   ]
  },
  {
   "cell_type": "code",
   "execution_count": 116,
   "metadata": {},
   "outputs": [
    {
     "name": "stdout",
     "output_type": "stream",
     "text": [
      "RETURNED TITLE:\n",
      "\"Pacer Copypasta\"\n",
      "RETURNED CONTENT:\n",
      "\"[ding] Remember to run in a straight line, and run as long as possible.\"\n",
      "RETURNED COSINE SIMILARITY:\n",
      "0.28\n"
     ]
    }
   ],
   "source": [
    "row1 = next(sim_search)\n",
    "print(f'RETURNED TITLE:\\n\"{row1.metadata[\"title\"]}\"')                # Title of the first result\n",
    "print(f'RETURNED CONTENT:\\n\"{row1.content}\"')                        # Content of the first result\n",
    "print(f'RETURNED COSINE SIMILARITY:\\n{row1.cosine_similarity:.2f}')  # Cosine similarity of the first result"
   ]
  },
  {
   "cell_type": "code",
   "execution_count": 117,
   "metadata": {},
   "outputs": [
    {
     "name": "stdout",
     "output_type": "stream",
     "text": [
      "Remaining rows:\n"
     ]
    },
    {
     "data": {
      "text/plain": [
       "[{'cosine_similarity': 0.1040281380381427,\n",
       "  'content': 'The test will begin on the word start. On your mark, get ready, start.',\n",
       "  'metadata': {'title': 'Pacer Copypasta',\n",
       "   'tags': ['fitness', 'pacer', 'copypasta'],\n",
       "   'page_numbers': 6}},\n",
       " {'cosine_similarity': 0.07991299570644006,\n",
       "  'content': 'The running speed starts slowly, but gets faster each minute after you hear this signal.',\n",
       "  'metadata': {'title': 'Pacer Copypasta',\n",
       "   'tags': ['fitness', 'pacer', 'copypasta'],\n",
       "   'page_numbers': 2}}]"
      ]
     },
     "execution_count": 117,
     "metadata": {},
     "output_type": "execute_result"
    }
   ],
   "source": [
    "# It's a generator, an we already pulled the 1st of 3 rows, so there will be 2 left\n",
    "print('Remaining rows:')  \n",
    "list(sim_search)"
   ]
  },
  {
   "attachments": {},
   "cell_type": "markdown",
   "metadata": {},
   "source": [
    "# Chatlog Embedding"
   ]
  },
  {
   "cell_type": "code",
   "execution_count": 118,
   "metadata": {},
   "outputs": [],
   "source": [
    "abbott_and_costello = [  # Demo chatlog\n",
    "    {'role': 'system', 'content': 'The user is considering becoming a ballplayer. The assistant wants to make sure they know what they\\'re getting into.'},\n",
    "    {'role': 'assistant', 'content': 'Strange as it may seem, they give ball players nowadays very peculiar names.'},\n",
    "    {'role': 'user', 'content': 'Funny names?'},\n",
    "    {'role': 'assistant', 'content': 'Nicknames, nicknames. Now, on the St. Louis team we have Who\\'s on first, What\\'s on second, I Don\\'t Know is on third--'},\n",
    "    {'role': 'user', 'content': 'That\\'s what I want to find out. I want you to tell me the names of the fellows on the St. Louis team.'},\n",
    "    {'role': 'assistant', 'content': \"I'm telling you. Who is on first. What's on second. I Don't Know's on third--\"},\n",
    "    {'role': 'user', 'content': \"You know the fellows' names?\"},\n",
    "    {'role': 'assistant', 'content': 'Yes.'},\n",
    "    {'role': 'user', 'content': \"Well, then who's playing first?\"},\n",
    "    {'role': 'assistant', 'content': 'Yes.'},\n",
    "    {'role': 'user', 'content': \"I mean the fellow's name on first base.\"},\n",
    "    {'role': 'assistant', 'content': 'Who.'},\n",
    "    {'role': 'user', 'content': \"The fellow playin' first base.\"},\n",
    "    {'role': 'assistant', 'content': 'Who.'},\n",
    "    {'role': 'user', 'content': \"The guy on first base.\"},\n",
    "    {'role': 'assistant', 'content': 'Who is on first.'},\n",
    "    {'role': 'user', 'content': \"Well, what are you askin' me for?\"},\n",
    "    {'role': 'assistant', 'content': \"I'm not asking you--I'm telling you. Who is on first.\"},\n",
    "    {'role': 'user', 'content': \"I'm asking you--who's on first?\"},\n",
    "    {'role': 'assistant', 'content': 'That\\'s the man\\'s name.'},\n",
    "    {'role': 'user', 'content': \"That's who's name?\"},\n",
    "    {'role': 'assistant', 'content': 'Yes.'},\n",
    "]"
   ]
  },
  {
   "attachments": {},
   "cell_type": "markdown",
   "metadata": {},
   "source": [
    "### Connecting to the database"
   ]
  },
  {
   "cell_type": "code",
   "execution_count": 119,
   "metadata": {},
   "outputs": [],
   "source": [
    "baseballDB = await MessageDB.from_conn_params(\n",
    "    embedding_model=e_model, \n",
    "    table_name='baseball',\n",
    "    user=USER,\n",
    "    password=PASSWORD,\n",
    "    db_name=DB_NAME,\n",
    "    host=HOST,\n",
    "    port=int(PORT)\n",
    ")"
   ]
  },
  {
   "attachments": {},
   "cell_type": "markdown",
   "metadata": {},
   "source": [
    "### Create Tables"
   ]
  },
  {
   "cell_type": "code",
   "execution_count": 120,
   "metadata": {},
   "outputs": [],
   "source": [
    "await baseballDB.drop_table()    # Drop the table if one is found\n",
    "await baseballDB.create_table()  # Create a new table"
   ]
  },
  {
   "attachments": {},
   "cell_type": "markdown",
   "metadata": {},
   "source": [
    "### Inserting Chatlog"
   ]
  },
  {
   "cell_type": "code",
   "execution_count": 121,
   "metadata": {},
   "outputs": [
    {
     "name": "stdout",
     "output_type": "stream",
     "text": [
      "Inserted 22 lines of dialog into the table with history key \"7e87cb06-d31e-4932-97cb-6017f146ee5f\".\n"
     ]
    }
   ],
   "source": [
    "history_key = uuid.uuid4()        # Generate a key for the chatlog\n",
    "for line in abbott_and_costello:  # For each line of dialog in the script\n",
    "    await baseballDB.insert(      # Insert the message into the table\n",
    "        history_key=history_key,  # The key for the chatlog\n",
    "        role=line['role'],\n",
    "        content=line['content'],\n",
    "        metadata={'genre': 'comedy', 'year': 1938}\n",
    "    )\n",
    "print(f'Inserted {len(abbott_and_costello)} lines of dialog into the table with history key \"{history_key}\".')"
   ]
  },
  {
   "attachments": {},
   "cell_type": "markdown",
   "metadata": {},
   "source": [
    "## Searching the chatlog with a perfect match"
   ]
  },
  {
   "cell_type": "code",
   "execution_count": 122,
   "metadata": {},
   "outputs": [
    {
     "name": "stdout",
     "output_type": "stream",
     "text": [
      "Semantic Searching data using search string: \"nickname\"\n"
     ]
    }
   ],
   "source": [
    "search_string = 'nickname'\n",
    "k = 3\n",
    "print(f'Semantic Searching data using search string: \"{search_string}\"')\n",
    "\n",
    "sim_search = await baseballDB.search(\n",
    "    history_key=history_key,\n",
    "    text=search_string,\n",
    "    limit=k\n",
    ")"
   ]
  },
  {
   "cell_type": "code",
   "execution_count": 123,
   "metadata": {},
   "outputs": [
    {
     "name": "stdout",
     "output_type": "stream",
     "text": [
      "RETURNED TIMESTAMP:\n",
      "2024-06-05 20:26:48.539270+00:00\n",
      "RETURNED MESSAGE:\n",
      "system: The user is considering becoming a ballplayer. The assistant wants to make sure they know what they're getting into.\n",
      "RETURNED COSINE SIMILARITY:\n",
      "0.11\n"
     ]
    }
   ],
   "source": [
    "row1 = next(sim_search)\n",
    "print(f'RETURNED TIMESTAMP:\\n{row1.ts}')                              # Print the timestamp of the first result\n",
    "print(f'RETURNED MESSAGE:\\n{row1.role}: {row1.content}')  # Print the message of the first result\n",
    "print(f'RETURNED COSINE SIMILARITY:\\n{row1.cosine_similarity:.2f}')   # Print the cosine similarity of the first result"
   ]
  },
  {
   "cell_type": "code",
   "execution_count": 124,
   "metadata": {},
   "outputs": [
    {
     "name": "stdout",
     "output_type": "stream",
     "text": [
      "Remaining rows:\n"
     ]
    },
    {
     "data": {
      "text/plain": [
       "[{'ts': datetime.datetime(2024, 6, 5, 20, 26, 48, 572691, tzinfo=datetime.timezone.utc),\n",
       "  'role': 'assistant',\n",
       "  'content': 'Strange as it may seem, they give ball players nowadays very peculiar names.',\n",
       "  'metadata': {'genre': 'comedy', 'year': 1938},\n",
       "  'cosine_similarity': 0.3639256249688394},\n",
       " {'ts': datetime.datetime(2024, 6, 5, 20, 26, 48, 603107, tzinfo=datetime.timezone.utc),\n",
       "  'role': 'user',\n",
       "  'content': 'Funny names?',\n",
       "  'metadata': {'genre': 'comedy', 'year': 1938},\n",
       "  'cosine_similarity': 0.4386831187417052}]"
      ]
     },
     "execution_count": 124,
     "metadata": {},
     "output_type": "execute_result"
    }
   ],
   "source": [
    "# It's a generator, an we already pulled the 1st of 3 rows, so there will be 2 left\n",
    "print('Remaining rows:')  \n",
    "list(sim_search)"
   ]
  },
  {
   "attachments": {},
   "cell_type": "markdown",
   "metadata": {},
   "source": [
    "## Searching the chatlog with a partial match"
   ]
  },
  {
   "cell_type": "code",
   "execution_count": 125,
   "metadata": {},
   "outputs": [
    {
     "name": "stdout",
     "output_type": "stream",
     "text": [
      "Semantic Searching data using search string: \"nickname\"\n"
     ]
    }
   ],
   "source": [
    "search_string = 'nickname'\n",
    "k = 3\n",
    "print(f'Semantic Searching data using search string: \"{search_string}\"')\n",
    "\n",
    "sim_search = await baseballDB.search(\n",
    "    history_key=history_key,\n",
    "    text=search_string,\n",
    "    limit=k\n",
    ")"
   ]
  },
  {
   "cell_type": "code",
   "execution_count": 126,
   "metadata": {},
   "outputs": [
    {
     "name": "stdout",
     "output_type": "stream",
     "text": [
      "RETURNED TIMESTAMP:\n",
      "2024-06-05 20:26:48.539270+00:00\n",
      "RETURNED MESSAGE:\n",
      "system: The user is considering becoming a ballplayer. The assistant wants to make sure they know what they're getting into.\n",
      "RETURNED COSINE SIMILARITY:\n",
      "0.11\n"
     ]
    }
   ],
   "source": [
    "row1 = next(sim_search)\n",
    "print(f'RETURNED TIMESTAMP:\\n{row1.ts}')                              # Print the timestamp of the first result\n",
    "print(f'RETURNED MESSAGE:\\n{row1.role}: {row1.content}')  # Print the message of the first result\n",
    "print(f'RETURNED COSINE SIMILARITY:\\n{row1.cosine_similarity:.2f}')   # Print the cosine similarity of the first result"
   ]
  },
  {
   "cell_type": "code",
   "execution_count": 127,
   "metadata": {},
   "outputs": [
    {
     "name": "stdout",
     "output_type": "stream",
     "text": [
      "Remaining rows:\n"
     ]
    },
    {
     "data": {
      "text/plain": [
       "[{'ts': datetime.datetime(2024, 6, 5, 20, 26, 48, 572691, tzinfo=datetime.timezone.utc),\n",
       "  'role': 'assistant',\n",
       "  'content': 'Strange as it may seem, they give ball players nowadays very peculiar names.',\n",
       "  'metadata': {'genre': 'comedy', 'year': 1938},\n",
       "  'cosine_similarity': 0.3639256249688394},\n",
       " {'ts': datetime.datetime(2024, 6, 5, 20, 26, 48, 603107, tzinfo=datetime.timezone.utc),\n",
       "  'role': 'user',\n",
       "  'content': 'Funny names?',\n",
       "  'metadata': {'genre': 'comedy', 'year': 1938},\n",
       "  'cosine_similarity': 0.4386831187417052}]"
      ]
     },
     "execution_count": 127,
     "metadata": {},
     "output_type": "execute_result"
    }
   ],
   "source": [
    "# It's a generator, an we already pulled the 1st of 3 rows, sso there will be 2 left\n",
    "print('Remaining rows:')  \n",
    "list(sim_search)"
   ]
  },
  {
   "attachments": {},
   "cell_type": "markdown",
   "metadata": {},
   "source": [
    "## Retrieving the entire chatlog"
   ]
  },
  {
   "cell_type": "code",
   "execution_count": 128,
   "metadata": {},
   "outputs": [
    {
     "name": "stdout",
     "output_type": "stream",
     "text": [
      "Retreiving chatlog \"7e87cb06-d31e-4932-97cb-6017f146ee5f\" from database\n"
     ]
    }
   ],
   "source": [
    "print(f'Retreiving chatlog \"{history_key}\" from database')\n",
    "script_from_PG = await baseballDB.get_messages(history_key=history_key)"
   ]
  },
  {
   "cell_type": "code",
   "execution_count": 129,
   "metadata": {},
   "outputs": [
    {
     "name": "stdout",
     "output_type": "stream",
     "text": [
      "RETURNED CHATLOG:\n",
      "assistant: Yes.\n",
      "user: That's who's name?\n",
      "assistant: That's the man's name.\n",
      "user: I'm asking you--who's on first?\n",
      "assistant: I'm not asking you--I'm telling you. Who is on first.\n",
      "user: Well, what are you askin' me for?\n",
      "assistant: Who is on first.\n",
      "user: The guy on first base.\n",
      "assistant: Who.\n",
      "user: The fellow playin' first base.\n",
      "assistant: Who.\n",
      "user: I mean the fellow's name on first base.\n",
      "assistant: Yes.\n",
      "user: Well, then who's playing first?\n",
      "assistant: Yes.\n",
      "user: You know the fellows' names?\n",
      "assistant: I'm telling you. Who is on first. What's on second. I Don't Know's on third--\n",
      "user: That's what I want to find out. I want you to tell me the names of the fellows on the St. Louis team.\n",
      "assistant: Nicknames, nicknames. Now, on the St. Louis team we have Who's on first, What's on second, I Don't Know is on third--\n",
      "user: Funny names?\n",
      "assistant: Strange as it may seem, they give ball players nowadays very peculiar names.\n",
      "system: The user is considering becoming a ballplayer. The assistant wants to make sure they know what they're getting into.\n"
     ]
    }
   ],
   "source": [
    "print('RETURNED CHATLOG:')\n",
    "for message in script_from_PG:\n",
    "    print(f'{message[\"role\"]}: {message[\"content\"]}')"
   ]
  },
  {
   "cell_type": "code",
   "execution_count": 130,
   "metadata": {},
   "outputs": [
    {
     "name": "stdout",
     "output_type": "stream",
     "text": [
      "RAW RETURN:\n"
     ]
    },
    {
     "data": {
      "text/plain": [
       "<generator object MessageDB.get_messages.<locals>.<genexpr> at 0x320c42e40>"
      ]
     },
     "execution_count": 130,
     "metadata": {},
     "output_type": "execute_result"
    }
   ],
   "source": [
    "print('RAW RETURN:')\n",
    "script_from_PG"
   ]
  },
  {
   "attachments": {},
   "cell_type": "markdown",
   "metadata": {},
   "source": [
    "## (Cleanup)"
   ]
  },
  {
   "cell_type": "code",
   "execution_count": 131,
   "metadata": {},
   "outputs": [],
   "source": [
    "await pacerDB.drop_table()\n",
    "await baseballDB.drop_table()"
   ]
  }
 ],
 "metadata": {
  "kernelspec": {
   "display_name": "env",
   "language": "python",
   "name": "python3"
  },
  "language_info": {
   "codemirror_mode": {
    "name": "ipython",
    "version": 3
   },
   "file_extension": ".py",
   "mimetype": "text/x-python",
   "name": "python",
   "nbconvert_exporter": "python",
   "pygments_lexer": "ipython3",
   "version": "3.11.4"
  },
  "orig_nbformat": 4
 },
 "nbformat": 4,
 "nbformat_minor": 2
}
