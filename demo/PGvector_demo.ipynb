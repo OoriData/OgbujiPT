{
 "cells": [
  {
   "attachments": {},
   "cell_type": "markdown",
   "metadata": {},
   "source": [
    "# Database Demo\n",
    "\n",
    "Sample functionality for creating tables, inserting data and running similarity search with OgbujiPT.\n",
    "\n",
    "Notes:\n",
    "- `pip install jupyter` if notebook is not running\n",
    "\n",
    "This notebook will attempt to access a database named `PGv` at `sofola:5432`, using the username `oori` and password `example`. If you have a different setup, you can change the connection string in the first cell."
   ]
  },
  {
   "attachments": {},
   "cell_type": "markdown",
   "metadata": {},
   "source": [
    "### Initial setup and Imports"
   ]
  },
  {
   "cell_type": "code",
   "execution_count": 434,
   "metadata": {},
   "outputs": [],
   "source": [
    "import uuid\n",
    "from pprint                      import pprint\n",
    "\n",
    "from ogbujipt.embedding.pgvector import docDB, chatlogDB\n",
    "\n",
    "from sentence_transformers       import SentenceTransformer\n",
    "\n",
    "DB_NAME = 'PGv'\n",
    "HOST = 'sofola'\n",
    "PORT = 5432\n",
    "USER = 'oori'\n",
    "PASSWORD = 'example'\n",
    "\n",
    "e_model = SentenceTransformer('all-MiniLM-L6-v2')  # Load the embedding model"
   ]
  },
  {
   "attachments": {},
   "cell_type": "markdown",
   "metadata": {},
   "source": [
    "# Document Embedding"
   ]
  },
  {
   "cell_type": "code",
   "execution_count": 435,
   "metadata": {},
   "outputs": [],
   "source": [
    "pacer_copypasta = [  # Demo document\n",
    "    'The FitnessGram™ Pacer Test is a multistage aerobic capacity test that progressively gets more difficult as it continues.', \n",
    "    'The 20 meter pacer test will begin in 30 seconds. Line up at the start.', \n",
    "    'The running speed starts slowly, but gets faster each minute after you hear this signal.', \n",
    "    '[beep] A single lap should be completed each time you hear this sound.', \n",
    "    '[ding] Remember to run in a straight line, and run as long as possible.', \n",
    "    'The second time you fail to complete a lap before the sound, your test is over.', \n",
    "    'The test will begin on the word start. On your mark, get ready, start.'\n",
    "]"
   ]
  },
  {
   "attachments": {},
   "cell_type": "markdown",
   "metadata": {},
   "source": [
    "### Connecting to the database"
   ]
  },
  {
   "cell_type": "code",
   "execution_count": 436,
   "metadata": {},
   "outputs": [],
   "source": [
    "pacerDB = await docDB.from_conn_params(\n",
    "    embedding_model=e_model, \n",
    "    table_name='pacer',\n",
    "    user=USER,\n",
    "    password=PASSWORD,\n",
    "    db_name=DB_NAME,\n",
    "    host=HOST,\n",
    "    port=int(PORT)\n",
    ")"
   ]
  },
  {
   "attachments": {},
   "cell_type": "markdown",
   "metadata": {},
   "source": [
    "### Create Tables"
   ]
  },
  {
   "cell_type": "code",
   "execution_count": 437,
   "metadata": {},
   "outputs": [],
   "source": [
    "await pacerDB.drop_table()        # Drop the table if one is found\n",
    "\n",
    "await pacerDB.create_doc_table()  # Create a new table"
   ]
  },
  {
   "attachments": {},
   "cell_type": "markdown",
   "metadata": {},
   "source": [
    "### Inserting Document"
   ]
  },
  {
   "cell_type": "code",
   "execution_count": 438,
   "metadata": {},
   "outputs": [
    {
     "name": "stdout",
     "output_type": "stream",
     "text": [
      "Inserted 7 document chunks into the table\n"
     ]
    }
   ],
   "source": [
    "for index, text in enumerate(pacer_copypasta):   # For each line in the copypasta\n",
    "    await pacerDB.insert_doc(                    # Insert the line into the table\n",
    "        content=text,                            # The text to be embedded\n",
    "        permission='public',                     # Permission metadata for access control\n",
    "        title=f'Pacer Copypasta line {index}',   # Title metadata\n",
    "        page_numbers=[1, 2, 3],                  # Page number metadata\n",
    "        tags=['fitness', 'pacer', 'copypasta'],  # Tag metadata\n",
    "    )\n",
    "print(f'Inserted {len(pacer_copypasta)} document chunks into the table')"
   ]
  },
  {
   "attachments": {},
   "cell_type": "markdown",
   "metadata": {},
   "source": [
    "## Similarity search Document"
   ]
  },
  {
   "attachments": {},
   "cell_type": "markdown",
   "metadata": {},
   "source": [
    "### Searching the document with a perfect match"
   ]
  },
  {
   "cell_type": "code",
   "execution_count": 439,
   "metadata": {},
   "outputs": [
    {
     "name": "stdout",
     "output_type": "stream",
     "text": [
      "Semantic Searching data using search string:\n",
      "\"[beep] A single lap should be completed each time you hear this sound.\"\n"
     ]
    }
   ],
   "source": [
    "search_string = '[beep] A single lap should be completed each time you hear this sound.'\n",
    "print(f'Semantic Searching data using search string:\\n\"{search_string}\"')\n",
    "\n",
    "sim_search = await pacerDB.search_doc_table(\n",
    "    query_string=search_string,  # string to search by\n",
    "    limit=3                      # Number of results returned\n",
    ")"
   ]
  },
  {
   "cell_type": "code",
   "execution_count": 440,
   "metadata": {},
   "outputs": [
    {
     "name": "stdout",
     "output_type": "stream",
     "text": [
      "RETURNED TITLE:\n",
      "\"Pacer Copypasta line 3\"\n",
      "RETURNED CONTENT:\n",
      "\"[beep] A single lap should be completed each time you hear this sound.\"\n",
      "RETURNED COSINE SIMILARITY:\n",
      "0.00\n"
     ]
    }
   ],
   "source": [
    "print(f'RETURNED TITLE:\\n\"{sim_search[0][\"title\"]}\"')                          # Print the title of the first result\n",
    "print(f'RETURNED CONTENT:\\n\"{sim_search[0][\"content\"]}\"')                        # Print the content of the first result\n",
    "print(f'RETURNED COSINE SIMILARITY:\\n{sim_search[0][\"cosine_similarity\"]:.2f}')  # Print the cosine similarity of the first result"
   ]
  },
  {
   "cell_type": "code",
   "execution_count": 441,
   "metadata": {},
   "outputs": [
    {
     "name": "stdout",
     "output_type": "stream",
     "text": [
      "RAW RETURN:\n",
      "[<Record cosine_similarity=0.0 title='Pacer Copypasta line 3' content='[beep] A single lap should be completed each time you hear this sound.' permission='public' page_numbers=[1, 2, 3] tags=['fitness', 'pacer', 'copypasta']>,\n",
      " <Record cosine_similarity=0.31445924384770496 title='Pacer Copypasta line 5' content='The second time you fail to complete a lap before the sound, your test is over.' permission='public' page_numbers=[1, 2, 3] tags=['fitness', 'pacer', 'copypasta']>,\n",
      " <Record cosine_similarity=0.634082588486436 title='Pacer Copypasta line 2' content='The running speed starts slowly, but gets faster each minute after you hear this signal.' permission='public' page_numbers=[1, 2, 3] tags=['fitness', 'pacer', 'copypasta']>]\n"
     ]
    }
   ],
   "source": [
    "print(f'RAW RETURN:')\n",
    "pprint(sim_search)"
   ]
  },
  {
   "attachments": {},
   "cell_type": "markdown",
   "metadata": {},
   "source": [
    "### Searching the document with a partial match"
   ]
  },
  {
   "cell_type": "code",
   "execution_count": 442,
   "metadata": {},
   "outputs": [
    {
     "name": "stdout",
     "output_type": "stream",
     "text": [
      "Semantic Searching data using search string:\n",
      "\"straight\"\n"
     ]
    }
   ],
   "source": [
    "search_string = 'straight'\n",
    "print(f'Semantic Searching data using search string:\\n\"{search_string}\"')\n",
    "\n",
    "sim_search = await pacerDB.search_doc_table(\n",
    "    query_string=search_string,  # string to search by\n",
    "    limit=3                      # Number of results returned\n",
    ")"
   ]
  },
  {
   "cell_type": "code",
   "execution_count": 443,
   "metadata": {},
   "outputs": [
    {
     "name": "stdout",
     "output_type": "stream",
     "text": [
      "RETURNED TITLE:\n",
      "\"Pacer Copypasta line 4\"\n",
      "RETURNED CONTENT:\n",
      "\"[ding] Remember to run in a straight line, and run as long as possible.\"\n",
      "RETURNED COSINE SIMILARITY:\n",
      "0.72\n"
     ]
    }
   ],
   "source": [
    "print(f'RETURNED TITLE:\\n\"{sim_search[0][\"title\"]}\"')                          # Print the title of the first result\n",
    "print(f'RETURNED CONTENT:\\n\"{sim_search[0][\"content\"]}\"')                        # Print the content of the first result\n",
    "print(f'RETURNED COSINE SIMILARITY:\\n{sim_search[0][\"cosine_similarity\"]:.2f}')  # Print the cosine similarity of the first result"
   ]
  },
  {
   "cell_type": "code",
   "execution_count": 444,
   "metadata": {},
   "outputs": [
    {
     "name": "stdout",
     "output_type": "stream",
     "text": [
      "RAW RETURN:\n",
      "[<Record cosine_similarity=0.7157614573027005 title='Pacer Copypasta line 4' content='[ding] Remember to run in a straight line, and run as long as possible.' permission='public' page_numbers=[1, 2, 3] tags=['fitness', 'pacer', 'copypasta']>,\n",
      " <Record cosine_similarity=0.8959717930563745 title='Pacer Copypasta line 6' content='The test will begin on the word start. On your mark, get ready, start.' permission='public' page_numbers=[1, 2, 3] tags=['fitness', 'pacer', 'copypasta']>,\n",
      " <Record cosine_similarity=0.9200870391648666 title='Pacer Copypasta line 2' content='The running speed starts slowly, but gets faster each minute after you hear this signal.' permission='public' page_numbers=[1, 2, 3] tags=['fitness', 'pacer', 'copypasta']>]\n"
     ]
    }
   ],
   "source": [
    "print(f'RAW RETURN:')  \n",
    "pprint(sim_search)"
   ]
  },
  {
   "attachments": {},
   "cell_type": "markdown",
   "metadata": {},
   "source": [
    "# Chatlog Embedding"
   ]
  },
  {
   "cell_type": "code",
   "execution_count": 445,
   "metadata": {},
   "outputs": [],
   "source": [
    "abbott_and_costello = [  # Demo chatlog\n",
    "    {'role': 'system', 'content': 'The user is considering becoming a ballplayer. The assistant wants to make sure they knows what they\\'re getting into.'},\n",
    "    {'role': 'assistant', 'content': 'Strange as it may seem, they give ball players nowadays very peculiar names.'},\n",
    "    {'role': 'user', 'content': 'Funny names?'},\n",
    "    {'role': 'assistant', 'content': 'Nicknames, nicknames. Now, on the St. Louis team we have Who\\'s on first, What\\'s on second, I Don\\'t Know is on third--'},\n",
    "    {'role': 'user', 'content': 'That\\'s what I want to find out. I want you to tell me the names of the fellows on the St. Louis team.'},\n",
    "    {'role': 'assistant', 'content': \"I'm telling you. Who is on first. What's on second. I Don't Know's on third--\"},\n",
    "    {'role': 'user', 'content': \"You know the fellows' names?\"},\n",
    "    {'role': 'assistant', 'content': 'Yes.'},\n",
    "    {'role': 'user', 'content': \"Well, then who's playing first?\"},\n",
    "    {'role': 'assistant', 'content': 'Yes.'},\n",
    "    {'role': 'user', 'content': \"I mean the fellow's name on first base.\"},\n",
    "    {'role': 'assistant', 'content': 'Who.'},\n",
    "    {'role': 'user', 'content': \"The fellow playin' first base.\"},\n",
    "    {'role': 'assistant', 'content': 'Who.'},\n",
    "    {'role': 'user', 'content': \"The guy on first base.\"},\n",
    "    {'role': 'assistant', 'content': 'Who is on first.'},\n",
    "    {'role': 'user', 'content': \"Well, what are you askin' me for?\"},\n",
    "    {'role': 'assistant', 'content': \"I'm not asking you--I'm telling you. Who is on first.\"},\n",
    "    {'role': 'user', 'content': \"I'm asking you--who's on first?\"},\n",
    "    {'role': 'assistant', 'content': 'That\\'s the man\\'s name.'},\n",
    "    {'role': 'user', 'content': \"That's who's name?\"},\n",
    "    {'role': 'assistant', 'content': 'Yes.'},\n",
    "]"
   ]
  },
  {
   "attachments": {},
   "cell_type": "markdown",
   "metadata": {},
   "source": [
    "### Connecting to the database"
   ]
  },
  {
   "cell_type": "code",
   "execution_count": 446,
   "metadata": {},
   "outputs": [],
   "source": [
    "baseballDB = await chatlogDB.from_conn_params(\n",
    "    embedding_model=e_model, \n",
    "    table_name='baseball',\n",
    "    user=USER,\n",
    "    password=PASSWORD,\n",
    "    db_name=DB_NAME,\n",
    "    host=HOST,\n",
    "    port=int(PORT)\n",
    ")"
   ]
  },
  {
   "attachments": {},
   "cell_type": "markdown",
   "metadata": {},
   "source": [
    "### Create Tables"
   ]
  },
  {
   "cell_type": "code",
   "execution_count": 447,
   "metadata": {},
   "outputs": [],
   "source": [
    "await baseballDB.drop_table()            # Drop the table if one is found\n",
    "\n",
    "await baseballDB.create_chatlog_table()  # Create a new table"
   ]
  },
  {
   "attachments": {},
   "cell_type": "markdown",
   "metadata": {},
   "source": [
    "### Inserting Chatlog"
   ]
  },
  {
   "cell_type": "code",
   "execution_count": 448,
   "metadata": {},
   "outputs": [
    {
     "name": "stdout",
     "output_type": "stream",
     "text": [
      "Inserted 22 lines of dialog into the table with history key \"3dce2b2f-48ec-4bba-a069-373c19327308\".\n"
     ]
    }
   ],
   "source": [
    "history_key = uuid.uuid4()            # Generate a key for the chatlog\n",
    "for line in abbott_and_costello:      # For each line of dialog in the script\n",
    "    await baseballDB.insert_message(  # Insert the message into the table\n",
    "        history_key=history_key,      # The key for the chatlog\n",
    "        role=line['role'],\n",
    "        content=line['content'],\n",
    "        metadata={'genre': 'comedy', 'year': 1938}\n",
    "    )\n",
    "print(f'Inserted {len(abbott_and_costello)} lines of dialog into the table with history key \"{history_key}\".')"
   ]
  },
  {
   "attachments": {},
   "cell_type": "markdown",
   "metadata": {},
   "source": [
    "## Similarity search Chatlog"
   ]
  },
  {
   "attachments": {},
   "cell_type": "markdown",
   "metadata": {},
   "source": [
    "### Searching the chatlog with a perfect match"
   ]
  },
  {
   "cell_type": "code",
   "execution_count": 449,
   "metadata": {},
   "outputs": [
    {
     "name": "stdout",
     "output_type": "stream",
     "text": [
      "Semantic Searching data using search string: \"nickname\"\n"
     ]
    }
   ],
   "source": [
    "search_string = 'nickname'\n",
    "print(f'Semantic Searching data using search string: \"{search_string}\"')\n",
    "\n",
    "sim_search = await baseballDB.search_chatlog(\n",
    "    history_key=history_key,\n",
    "    query_string=search_string,\n",
    "    limit=k\n",
    ")"
   ]
  },
  {
   "cell_type": "code",
   "execution_count": 450,
   "metadata": {},
   "outputs": [
    {
     "name": "stdout",
     "output_type": "stream",
     "text": [
      "RETURNED INDEX:\n",
      "4\n",
      "RETURNED MESSAGE:\n",
      "assistant: Nicknames, nicknames. Now, on the St. Louis team we have Who's on first, What's on second, I Don't Know is on third--\n",
      "RETURNED COSINE SIMILARITY:\n",
      "0.49\n"
     ]
    }
   ],
   "source": [
    "print(f'RETURNED INDEX:\\n{sim_search[0][\"index\"]}')                             # Print the index of the first result\n",
    "print(f'RETURNED MESSAGE:\\n{sim_search[0][\"role\"]}: {sim_search[0][\"content\"]}')  # Print the message of the first result\n",
    "print(f'RETURNED COSINE SIMILARITY:\\n{sim_search[0][\"cosine_similarity\"]:.2f}')   # Print the cosine similarity of the first result"
   ]
  },
  {
   "cell_type": "code",
   "execution_count": 451,
   "metadata": {},
   "outputs": [
    {
     "name": "stdout",
     "output_type": "stream",
     "text": [
      "RAW RETURN:\n",
      "[{'content': \"Nicknames, nicknames. Now, on the St. Louis team we have Who's \"\n",
      "             \"on first, What's on second, I Don't Know is on third--\",\n",
      "  'cosine_similarity': 0.4910637432970839,\n",
      "  'index': 4,\n",
      "  'metadata': {'genre': 'comedy', 'year': 1938},\n",
      "  'role': 'assistant'},\n",
      " {'content': 'Funny names?',\n",
      "  'cosine_similarity': 0.561316881258301,\n",
      "  'index': 3,\n",
      "  'metadata': {'genre': 'comedy', 'year': 1938},\n",
      "  'role': 'user'},\n",
      " {'content': \"That's the man's name.\",\n",
      "  'cosine_similarity': 0.5729953094121991,\n",
      "  'index': 20,\n",
      "  'metadata': {'genre': 'comedy', 'year': 1938},\n",
      "  'role': 'assistant'}]\n"
     ]
    }
   ],
   "source": [
    "print('RAW RETURN:')\n",
    "pprint(sim_search)"
   ]
  },
  {
   "attachments": {},
   "cell_type": "markdown",
   "metadata": {},
   "source": [
    "### Searching the chatlog with a partial match"
   ]
  },
  {
   "cell_type": "code",
   "execution_count": 452,
   "metadata": {},
   "outputs": [
    {
     "name": "stdout",
     "output_type": "stream",
     "text": [
      "Semantic Searching data using search string: \"nickname\"\n"
     ]
    }
   ],
   "source": [
    "search_string = 'nickname'\n",
    "print(f'Semantic Searching data using search string: \"{search_string}\"')\n",
    "\n",
    "sim_search = await baseballDB.search_chatlog(\n",
    "    history_key=history_key,\n",
    "    query_string=search_string,\n",
    "    limit=k\n",
    ")"
   ]
  },
  {
   "cell_type": "code",
   "execution_count": 453,
   "metadata": {},
   "outputs": [
    {
     "name": "stdout",
     "output_type": "stream",
     "text": [
      "RETURNED INDEX:\n",
      "4\n",
      "RETURNED MESSAGE:\n",
      "assistant: Nicknames, nicknames. Now, on the St. Louis team we have Who's on first, What's on second, I Don't Know is on third--\n",
      "RETURNED COSINE SIMILARITY:\n",
      "0.49\n"
     ]
    }
   ],
   "source": [
    "print(f'RETURNED INDEX:\\n{sim_search[0][\"index\"]}')                             # Print the index of the first result\n",
    "print(f'RETURNED MESSAGE:\\n{sim_search[0][\"role\"]}: {sim_search[0][\"content\"]}')  # Print the message of the first result\n",
    "print(f'RETURNED COSINE SIMILARITY:\\n{sim_search[0][\"cosine_similarity\"]:.2f}')   # Print the cosine similarity of the first result"
   ]
  },
  {
   "cell_type": "code",
   "execution_count": 454,
   "metadata": {},
   "outputs": [
    {
     "name": "stdout",
     "output_type": "stream",
     "text": [
      "RAW RETURN:\n",
      "[{'content': \"Nicknames, nicknames. Now, on the St. Louis team we have Who's \"\n",
      "             \"on first, What's on second, I Don't Know is on third--\",\n",
      "  'cosine_similarity': 0.4910637432970839,\n",
      "  'index': 4,\n",
      "  'metadata': {'genre': 'comedy', 'year': 1938},\n",
      "  'role': 'assistant'},\n",
      " {'content': 'Funny names?',\n",
      "  'cosine_similarity': 0.561316881258301,\n",
      "  'index': 3,\n",
      "  'metadata': {'genre': 'comedy', 'year': 1938},\n",
      "  'role': 'user'},\n",
      " {'content': \"That's the man's name.\",\n",
      "  'cosine_similarity': 0.5729953094121991,\n",
      "  'index': 20,\n",
      "  'metadata': {'genre': 'comedy', 'year': 1938},\n",
      "  'role': 'assistant'}]\n"
     ]
    }
   ],
   "source": [
    "print('RAW RETURN:')\n",
    "pprint(sim_search)"
   ]
  },
  {
   "attachments": {},
   "cell_type": "markdown",
   "metadata": {},
   "source": [
    "### Retrieving the entire chatlog"
   ]
  },
  {
   "cell_type": "code",
   "execution_count": 455,
   "metadata": {},
   "outputs": [
    {
     "name": "stdout",
     "output_type": "stream",
     "text": [
      "Retreiving chatlog \"3dce2b2f-48ec-4bba-a069-373c19327308\" from database\n"
     ]
    }
   ],
   "source": [
    "print(f'Retreiving chatlog \"{history_key}\" from database')\n",
    "script_from_PG = await baseballDB.get_chatlog(history_key=history_key)"
   ]
  },
  {
   "cell_type": "code",
   "execution_count": 456,
   "metadata": {},
   "outputs": [
    {
     "name": "stdout",
     "output_type": "stream",
     "text": [
      "RETURNED CHATLOG:\n",
      "system: The user is considering becoming a ballplayer. The assistant wants to make sure they knows what they're getting into.\n",
      "assistant: Strange as it may seem, they give ball players nowadays very peculiar names.\n",
      "user: Funny names?\n",
      "assistant: Nicknames, nicknames. Now, on the St. Louis team we have Who's on first, What's on second, I Don't Know is on third--\n",
      "user: That's what I want to find out. I want you to tell me the names of the fellows on the St. Louis team.\n",
      "assistant: I'm telling you. Who is on first. What's on second. I Don't Know's on third--\n",
      "user: You know the fellows' names?\n",
      "assistant: Yes.\n",
      "user: Well, then who's playing first?\n",
      "assistant: Yes.\n",
      "user: I mean the fellow's name on first base.\n",
      "assistant: Who.\n",
      "user: The fellow playin' first base.\n",
      "assistant: Who.\n",
      "user: The guy on first base.\n",
      "assistant: Who is on first.\n",
      "user: Well, what are you askin' me for?\n",
      "assistant: I'm not asking you--I'm telling you. Who is on first.\n",
      "user: I'm asking you--who's on first?\n",
      "assistant: That's the man's name.\n",
      "user: That's who's name?\n",
      "assistant: Yes.\n"
     ]
    }
   ],
   "source": [
    "print('RETURNED CHATLOG:')\n",
    "for message in script_from_PG:\n",
    "    print(f'{message[\"role\"]}: {message[\"content\"]}')"
   ]
  },
  {
   "cell_type": "code",
   "execution_count": 457,
   "metadata": {},
   "outputs": [
    {
     "name": "stdout",
     "output_type": "stream",
     "text": [
      "RAW RETURN:\n",
      "[{'content': 'The user is considering becoming a ballplayer. The assistant '\n",
      "             \"wants to make sure they knows what they're getting into.\",\n",
      "  'index': 1,\n",
      "  'metadata': {'genre': 'comedy', 'year': 1938},\n",
      "  'role': 'system'},\n",
      " {'content': 'Strange as it may seem, they give ball players nowadays very '\n",
      "             'peculiar names.',\n",
      "  'index': 2,\n",
      "  'metadata': {'genre': 'comedy', 'year': 1938},\n",
      "  'role': 'assistant'},\n",
      " {'content': 'Funny names?',\n",
      "  'index': 3,\n",
      "  'metadata': {'genre': 'comedy', 'year': 1938},\n",
      "  'role': 'user'},\n",
      " {'content': \"Nicknames, nicknames. Now, on the St. Louis team we have Who's \"\n",
      "             \"on first, What's on second, I Don't Know is on third--\",\n",
      "  'index': 4,\n",
      "  'metadata': {'genre': 'comedy', 'year': 1938},\n",
      "  'role': 'assistant'},\n",
      " {'content': \"That's what I want to find out. I want you to tell me the names \"\n",
      "             'of the fellows on the St. Louis team.',\n",
      "  'index': 5,\n",
      "  'metadata': {'genre': 'comedy', 'year': 1938},\n",
      "  'role': 'user'},\n",
      " {'content': \"I'm telling you. Who is on first. What's on second. I Don't \"\n",
      "             \"Know's on third--\",\n",
      "  'index': 6,\n",
      "  'metadata': {'genre': 'comedy', 'year': 1938},\n",
      "  'role': 'assistant'},\n",
      " {'content': \"You know the fellows' names?\",\n",
      "  'index': 7,\n",
      "  'metadata': {'genre': 'comedy', 'year': 1938},\n",
      "  'role': 'user'},\n",
      " {'content': 'Yes.',\n",
      "  'index': 8,\n",
      "  'metadata': {'genre': 'comedy', 'year': 1938},\n",
      "  'role': 'assistant'},\n",
      " {'content': \"Well, then who's playing first?\",\n",
      "  'index': 9,\n",
      "  'metadata': {'genre': 'comedy', 'year': 1938},\n",
      "  'role': 'user'},\n",
      " {'content': 'Yes.',\n",
      "  'index': 10,\n",
      "  'metadata': {'genre': 'comedy', 'year': 1938},\n",
      "  'role': 'assistant'},\n",
      " {'content': \"I mean the fellow's name on first base.\",\n",
      "  'index': 11,\n",
      "  'metadata': {'genre': 'comedy', 'year': 1938},\n",
      "  'role': 'user'},\n",
      " {'content': 'Who.',\n",
      "  'index': 12,\n",
      "  'metadata': {'genre': 'comedy', 'year': 1938},\n",
      "  'role': 'assistant'},\n",
      " {'content': \"The fellow playin' first base.\",\n",
      "  'index': 13,\n",
      "  'metadata': {'genre': 'comedy', 'year': 1938},\n",
      "  'role': 'user'},\n",
      " {'content': 'Who.',\n",
      "  'index': 14,\n",
      "  'metadata': {'genre': 'comedy', 'year': 1938},\n",
      "  'role': 'assistant'},\n",
      " {'content': 'The guy on first base.',\n",
      "  'index': 15,\n",
      "  'metadata': {'genre': 'comedy', 'year': 1938},\n",
      "  'role': 'user'},\n",
      " {'content': 'Who is on first.',\n",
      "  'index': 16,\n",
      "  'metadata': {'genre': 'comedy', 'year': 1938},\n",
      "  'role': 'assistant'},\n",
      " {'content': \"Well, what are you askin' me for?\",\n",
      "  'index': 17,\n",
      "  'metadata': {'genre': 'comedy', 'year': 1938},\n",
      "  'role': 'user'},\n",
      " {'content': \"I'm not asking you--I'm telling you. Who is on first.\",\n",
      "  'index': 18,\n",
      "  'metadata': {'genre': 'comedy', 'year': 1938},\n",
      "  'role': 'assistant'},\n",
      " {'content': \"I'm asking you--who's on first?\",\n",
      "  'index': 19,\n",
      "  'metadata': {'genre': 'comedy', 'year': 1938},\n",
      "  'role': 'user'},\n",
      " {'content': \"That's the man's name.\",\n",
      "  'index': 20,\n",
      "  'metadata': {'genre': 'comedy', 'year': 1938},\n",
      "  'role': 'assistant'},\n",
      " {'content': \"That's who's name?\",\n",
      "  'index': 21,\n",
      "  'metadata': {'genre': 'comedy', 'year': 1938},\n",
      "  'role': 'user'},\n",
      " {'content': 'Yes.',\n",
      "  'index': 22,\n",
      "  'metadata': {'genre': 'comedy', 'year': 1938},\n",
      "  'role': 'assistant'}]\n"
     ]
    }
   ],
   "source": [
    "print('RAW RETURN:')\n",
    "pprint(script_from_PG)"
   ]
  }
 ],
 "metadata": {
  "kernelspec": {
   "display_name": "env",
   "language": "python",
   "name": "python3"
  },
  "language_info": {
   "codemirror_mode": {
    "name": "ipython",
    "version": 3
   },
   "file_extension": ".py",
   "mimetype": "text/x-python",
   "name": "python",
   "nbconvert_exporter": "python",
   "pygments_lexer": "ipython3",
   "version": "3.11.4"
  },
  "orig_nbformat": 4
 },
 "nbformat": 4,
 "nbformat_minor": 2
}
