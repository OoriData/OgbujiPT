{
 "cells": [
  {
   "attachments": {},
   "cell_type": "markdown",
   "metadata": {},
   "source": [
    "# Database Testing\n",
    "\n",
    "Sample functionality for creating tables, inserting data and running similarity search with OgbujiPT.\n",
    "\n",
    "Notes:\n",
    "- `pip install jupyter` if notebook is not running"
   ]
  },
  {
   "cell_type": "code",
   "execution_count": 1,
   "metadata": {},
   "outputs": [],
   "source": [
    "from sentence_transformers import SentenceTransformer\n",
    "from ogbujipt.embedding_helper import PGvectorConnection\n",
    "\n",
    "# Load the model\n",
    "e_model = SentenceTransformer('all-mpnet-base-v2')\n",
    "\n",
    "# Demo data\n",
    "pacer_copypasta = [\n",
    "    'The FitnessGram™ Pacer Test is a multistage aerobic capacity test that progressively gets more difficult as it continues.', \n",
    "    'The 20 meter pacer test will begin in 30 seconds. Line up at the start.', \n",
    "    'The running speed starts slowly, but gets faster each minute after you hear this signal.', \n",
    "    '[beep] A single lap should be completed each time you hear this sound.', \n",
    "    '[ding] Remember to run in a straight line, and run as long as possible.', \n",
    "    'The second time you fail to complete a lap before the sound, your test is over.', \n",
    "    'The test will begin on the word start. On your mark, get ready, start.'\n",
    "]"
   ]
  },
  {
   "attachments": {},
   "cell_type": "markdown",
   "metadata": {},
   "source": [
    "## Connecting to the database"
   ]
  },
  {
   "cell_type": "code",
   "execution_count": 2,
   "metadata": {},
   "outputs": [
    {
     "name": "stdout",
     "output_type": "stream",
     "text": [
      "Connecting to database...\n",
      "Connected to database.\n"
     ]
    }
   ],
   "source": [
    "try:\n",
    "    print(\"Connecting to database...\")\n",
    "    vDB = await PGvectorConnection.create(\n",
    "        embedding_model=e_model, \n",
    "        user='oori', \n",
    "        password='example', \n",
    "        db_name='PGv', \n",
    "        host='sofola', \n",
    "        port=int('5432')\n",
    "        )\n",
    "    print(\"Connected to database.\")\n",
    "except Exception as e:\n",
    "    print(f\"Error connecting to database: {e}\")"
   ]
  },
  {
   "attachments": {},
   "cell_type": "markdown",
   "metadata": {},
   "source": [
    "## Setting up database"
   ]
  },
  {
   "cell_type": "code",
   "execution_count": 4,
   "metadata": {},
   "outputs": [
    {
     "name": "stdout",
     "output_type": "stream",
     "text": [
      "PGvector extension created and loaded.\n",
      "Table dropped.\n",
      "Table created.\n"
     ]
    }
   ],
   "source": [
    "# Ensuring that the vector extension is installed\n",
    "try:\n",
    "    await vDB.conn.execute('''CREATE EXTENSION IF NOT EXISTS vector;''')\n",
    "    print(\"PGvector extension created and loaded.\")\n",
    "except Exception as e:\n",
    "    print(f\"Error creating extension: {e}\")\n",
    "\n",
    "# XXX Dropping the table if it exists (for testing purposes, ideally we would want to update the table)\n",
    "try:\n",
    "    await vDB.conn.execute('''DROP TABLE IF EXISTS embeddings;''')\n",
    "    print(\"Table dropped.\")\n",
    "except Exception as e:\n",
    "    print(f\"Error dropping table: {e}\")\n",
    "\n",
    "# Creating a new table\n",
    "try:\n",
    "    await vDB.create_doc_table(table_name='embeddings')\n",
    "    print(\"Table created.\")\n",
    "except Exception as e:\n",
    "    print(f\"Error creating table: {e}\")"
   ]
  },
  {
   "attachments": {},
   "cell_type": "markdown",
   "metadata": {},
   "source": [
    "## Inserting data"
   ]
  },
  {
   "cell_type": "code",
   "execution_count": 5,
   "metadata": {},
   "outputs": [
    {
     "name": "stdout",
     "output_type": "stream",
     "text": [
      "Inserting data into table...\n",
      "Data inserted.\n"
     ]
    }
   ],
   "source": [
    "# Ensuring that the vector extension is installed\n",
    "try:\n",
    "    await vDB.conn.execute('''CREATE EXTENSION IF NOT EXISTS vector;''')\n",
    "    print(\"PGvector extension created and loaded.\")\n",
    "except Exception as e:\n",
    "    print(f\"Error creating extension: {e}\")\n",
    "\n",
    "# XXX Dropping the table if it exists (for testing purposes, ideally we would want to update the table)\n",
    "try:\n",
    "    await vDB.conn.execute('''DROP TABLE IF EXISTS embeddings;''')\n",
    "    print(\"Table dropped.\")\n",
    "except Exception as e:\n",
    "    print(f\"Error dropping table: {e}\")\n",
    "\n",
    "# Creating a new table\n",
    "try:\n",
    "    await vDB.create_doc_table(table_name='embeddings')\n",
    "    print(\"Table created.\")\n",
    "except Exception as e:\n",
    "    print(f\"Error creating table: {e}\")"
   ]
  },
  {
   "attachments": {},
   "cell_type": "markdown",
   "metadata": {},
   "source": [
    "## Similarity search"
   ]
  },
  {
   "cell_type": "code",
   "execution_count": 6,
   "metadata": {},
   "outputs": [],
   "source": [
    "# Setting K for the search\n",
    "k = 3"
   ]
  },
  {
   "cell_type": "code",
   "execution_count": 7,
   "metadata": {},
   "outputs": [
    {
     "name": "stdout",
     "output_type": "stream",
     "text": [
      "Semantic Searching data...\n",
      "using search string: [beep] A single lap should be completed each time you hear this sound.\n",
      "RETURNED Title: Pacer Copypasta line 3\n",
      "RETURNED Content: [beep] A single lap should be completed each time you hear this sound.\n",
      "RETURNED Cosine Similarity: 1.00\n",
      "RAW RETURN: [<Record cosine_similarity=1.0 title='Pacer Copypasta line 3' content='[beep] A single lap should be completed each time you hear this sound.'>, <Record cosine_similarity=0.6023784459346072 title='Pacer Copypasta line 5' content='The second time you fail to complete a lap before the sound, your test is over.'>, <Record cosine_similarity=0.5462966290889161 title='Pacer Copypasta line 4' content='[ding] Remember to run in a straight line, and run as long as possible.'>]\n"
     ]
    }
   ],
   "source": [
    "# Searching the table with a perfect match\n",
    "search_string = '[beep] A single lap should be completed each time you hear this sound.'\n",
    "print('Semantic Searching data...')\n",
    "print('using search string:', search_string)\n",
    "\n",
    "try:\n",
    "    sim_search = await vDB.search_doc_table(table_name='embeddings', query_string=search_string, k=k)\n",
    "except Exception as e:\n",
    "    print(f\"Error searching table: {e}\")\n",
    "\n",
    "print('RETURNED Title:', sim_search[0]['title'])\n",
    "print('RETURNED Content:', sim_search[0]['content'])\n",
    "print('RETURNED Cosine Similarity:', f'{sim_search[0][\"cosine_similarity\"]:.2f}')\n",
    "print('RAW RETURN:', sim_search)"
   ]
  },
  {
   "cell_type": "code",
   "execution_count": 8,
   "metadata": {},
   "outputs": [
    {
     "name": "stdout",
     "output_type": "stream",
     "text": [
      "Semantic Searching data...\n",
      "using search string: Straight\n",
      "RETURNED Title: Pacer Copypasta line 4\n",
      "RETURNED Content: [ding] Remember to run in a straight line, and run as long as possible.\n",
      "RETURNED Cosine Similarity: 0.19\n",
      "RAW RETURN: [<Record cosine_similarity=0.19225941254254653 title='Pacer Copypasta line 4' content='[ding] Remember to run in a straight line, and run as long as possible.'>, <Record cosine_similarity=0.05218006236434358 title='Pacer Copypasta line 6' content='The test will begin on the word start. On your mark, get ready, start.'>, <Record cosine_similarity=0.026942850765159787 title='Pacer Copypasta line 3' content='[beep] A single lap should be completed each time you hear this sound.'>]\n"
     ]
    }
   ],
   "source": [
    "# Searching the table with a partial match\n",
    "search_string = 'Straight'\n",
    "print('Semantic Searching data...')\n",
    "print('using search string:', search_string)\n",
    "try:\n",
    "    sim_search = await vDB.search_doc_table(table_name='embeddings', query_string=search_string, k=k)\n",
    "except Exception as e:\n",
    "    print(f\"Error searching table: {e}\")\n",
    "print('RETURNED Title:', sim_search[0]['title'])\n",
    "print('RETURNED Content:', sim_search[0]['content'])\n",
    "print('RETURNED Cosine Similarity:', f'{sim_search[0][\"cosine_similarity\"]:.2f}')\n",
    "print('RAW RETURN:', sim_search)"
   ]
  }
 ],
 "metadata": {
  "kernelspec": {
   "display_name": "env",
   "language": "python",
   "name": "python3"
  },
  "language_info": {
   "codemirror_mode": {
    "name": "ipython",
    "version": 3
   },
   "file_extension": ".py",
   "mimetype": "text/x-python",
   "name": "python",
   "nbconvert_exporter": "python",
   "pygments_lexer": "ipython3",
   "version": "3.11.4"
  },
  "orig_nbformat": 4
 },
 "nbformat": 4,
 "nbformat_minor": 2
}
