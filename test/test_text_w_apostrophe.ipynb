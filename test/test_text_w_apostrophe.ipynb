{
  "cells": [
    {
      "attachments": {},
      "cell_type": "markdown",
      "metadata": {
        "id": "XKjkrM8lZbqY"
      },
      "source": [
        "# Failing use of from ogbujipt.embedding_helper.PGvectorConnection\n",
        "\n"
      ]
    },
    {
      "attachments": {},
      "cell_type": "markdown",
      "metadata": {
        "id": "kSUBMnKUZbqa"
      },
      "source": [
        "## Initial setup and Imports"
      ]
    },
    {
      "cell_type": "code",
      "execution_count": 3,
      "metadata": {
        "id": "qN6LvY32Zbqa"
      },
      "outputs": [],
      "source": [
        "import os\n",
        "\n",
        "HOST = os.environ.get('PGHOST', 'localhost')\n",
        "DB_NAME = 'PGv'\n",
        "PORT = 5432\n",
        "USER = 'oori'\n",
        "PASSWORD = 'example'"
      ]
    },
    {
      "cell_type": "code",
      "execution_count": 4,
      "metadata": {
        "id": "g11N52PcZbqb"
      },
      "outputs": [
        {
          "name": "stderr",
          "output_type": "stream",
          "text": [
            "/Users/uche/.local/venv/ogpt1/lib/python3.11/site-packages/tqdm/auto.py:21: TqdmWarning: IProgress not found. Please update jupyter and ipywidgets. See https://ipywidgets.readthedocs.io/en/stable/user_install.html\n",
            "  from .autonotebook import tqdm as notebook_tqdm\n"
          ]
        }
      ],
      "source": [
        "from ogbujipt.embedding.pgvector import PGvectorHelper\n",
        "from sentence_transformers     import SentenceTransformer\n",
        "\n",
        "e_model = SentenceTransformer('all-MiniLM-L6-v2')  # Load the embedding model\n",
        "\n",
        "pacer_copypasta = [  # Demo data\n",
        "    \"Structure of visceral layer of Bowman's capsule is a glomerular capsule structure and a structure of epithelium.\"\n",
        "]"
      ]
    },
    {
      "attachments": {},
      "cell_type": "markdown",
      "metadata": {
        "id": "DxKcqkAUZbqc"
      },
      "source": [
        "## Connecting to the database"
      ]
    },
    {
      "cell_type": "code",
      "execution_count": 5,
      "metadata": {
        "id": "fYyaJt48Zbqc",
        "outputId": "f5cf98a7-3ed6-432a-f39f-a794311c17c2"
      },
      "outputs": [
        {
          "name": "stdout",
          "output_type": "stream",
          "text": [
            "Connecting to database...\n",
            "1 embedding_test\n",
            "Connected to database.\n"
          ]
        },
        {
          "data": {
            "text/plain": [
              "<ogbujipt.embedding.pgvector.PGvectorHelper at 0x2addf0a50>"
            ]
          },
          "execution_count": 5,
          "metadata": {},
          "output_type": "execute_result"
        }
      ],
      "source": [
        "TABLE_NAME = 'embedding_test'\n",
        "print(\"Connecting to database...\")\n",
        "vDB = await PGvectorHelper.from_conn_params(\n",
        "    embedding_model=e_model,\n",
        "    table_name=TABLE_NAME,\n",
        "    db_name=DB_NAME,\n",
        "    host=HOST,\n",
        "    port=int(PORT),\n",
        "    user=USER,\n",
        "    password=PASSWORD\n",
        "    )\n",
        "print(\"Connected to database.\")"
      ]
    },
    {
      "attachments": {},
      "cell_type": "markdown",
      "metadata": {
        "id": "USe0OocfZbqd"
      },
      "source": [
        "## Create Tables"
      ]
    },
    {
      "cell_type": "code",
      "execution_count": 6,
      "metadata": {
        "id": "WQFRg7ekZbqd",
        "outputId": "b5a81b51-98d3-4630-da9d-279d7cfe5da6"
      },
      "outputs": [
        {
          "name": "stdout",
          "output_type": "stream",
          "text": [
            "Table dropped.\n",
            "Table created.\n"
          ]
        }
      ],
      "source": [
        "# Drop the table if one is found\n",
        "await vDB.drop_doc_table()\n",
        "print(\"Table dropped.\")\n",
        "\n",
        "# Creating a new table\n",
        "await vDB.create_doc_table()\n",
        "print(\"Table created.\")"
      ]
    },
    {
      "attachments": {},
      "cell_type": "markdown",
      "metadata": {
        "id": "3JhfA3XFZbqd"
      },
      "source": [
        "## Inserting Data"
      ]
    },
    {
      "cell_type": "code",
      "execution_count": 7,
      "metadata": {
        "id": "lbz2fXryZbqd"
      },
      "outputs": [],
      "source": [
        "for index, text in enumerate(pacer_copypasta):   # For each line in the copypasta\n",
        "    await vDB.insert_doc(                        # Insert the line into the table\n",
        "        content=text,                            # The text to be embedded\n",
        "        permission='public',                     # Permission metadata for access control\n",
        "        title=f'Pacer Copypasta line {index}',   # Title metadata\n",
        "        page_numbers=[1, 2, 3],                  # Page number metadata\n",
        "        tags=['fitness', 'pacer', 'copypasta'],  # Tag metadata\n",
        "    )"
      ]
    },
    {
      "attachments": {},
      "cell_type": "markdown",
      "metadata": {
        "id": "FWWNY2ySZbqd"
      },
      "source": [
        "## Similarity search"
      ]
    },
    {
      "cell_type": "code",
      "execution_count": 9,
      "metadata": {
        "id": "VDoJMiqKZbqe"
      },
      "outputs": [],
      "source": [
        "k = 3  # Setting number of rows to return when searching\n",
        "\n",
        "from pprint import pprint\n",
        "def print_results(results):  # Helper function to print results\n",
        "    print(f'RAW RETURN:')\n",
        "    pprint(results)                                                              # Print the raw results\n",
        "    print(f'\\nRETURNED TITLE:\\n\"{results[0][\"title\"]}\"')                            # Print the title of the first result\n",
        "    print(f'RETURNED CONTENT:\\n\"{results[0][\"content\"]}\"')                          # Print the content of the first result\n",
        "    print(f'RETURNED COSINE SIMILARITY:\\n{results[0][\"cosine_similarity\"]:.2f}')  # Print the cosine similarity of the first result"
      ]
    },
    {
      "attachments": {},
      "cell_type": "markdown",
      "metadata": {
        "id": "73HgVyLMZbqe"
      },
      "source": [
        "### Searching the table with a perfect match:"
      ]
    },
    {
      "cell_type": "code",
      "execution_count": 10,
      "metadata": {
        "id": "J-tkmohYZbqe",
        "outputId": "ec3a6319-f421-4ea8-c053-92e9fe89f1c9"
      },
      "outputs": [
        {
          "name": "stdout",
          "output_type": "stream",
          "text": [
            "Semantic Searching data using search string:\n",
            "\"[beep] A single lap should be completed each time you hear this sound.\"\n",
            "\n",
            "RAW RETURN:\n",
            "[<Record cosine_similarity=-0.013567006619781496 title='Pacer Copypasta line 0' content=\"Structure of visceral layer of Bowman's capsule is a glomerular capsule structure and a structure of epithelium.\">]\n",
            "\n",
            "RETURNED TITLE:\n",
            "\"Pacer Copypasta line 0\"\n",
            "RETURNED CONTENT:\n",
            "\"Structure of visceral layer of Bowman's capsule is a glomerular capsule structure and a structure of epithelium.\"\n",
            "RETURNED COSINE SIMILARITY:\n",
            "-0.01\n"
          ]
        }
      ],
      "source": [
        "search_string = '[beep] A single lap should be completed each time you hear this sound.'\n",
        "print(f'Semantic Searching data using search string:\\n\"{search_string}\"\\n')\n",
        "\n",
        "sim_search = await vDB.search_doc_table(query_string=search_string, limit=k)\n",
        "\n",
        "print_results(sim_search)"
      ]
    },
    {
      "attachments": {},
      "cell_type": "markdown",
      "metadata": {
        "id": "FxQkw-YfZbqe"
      },
      "source": [
        "### Searching the table with a partial match:"
      ]
    },
    {
      "cell_type": "code",
      "execution_count": 11,
      "metadata": {
        "id": "EWeeE6ekZbqe",
        "outputId": "b1631925-3007-4694-fd67-9d20de35a5ee"
      },
      "outputs": [
        {
          "name": "stdout",
          "output_type": "stream",
          "text": [
            "Semantic Searching data using search string:\n",
            "\"straight\"\n",
            "\n",
            "RAW RETURN:\n",
            "[<Record cosine_similarity=-0.04447922243115965 title='Pacer Copypasta line 0' content=\"Structure of visceral layer of Bowman's capsule is a glomerular capsule structure and a structure of epithelium.\">]\n",
            "\n",
            "RETURNED TITLE:\n",
            "\"Pacer Copypasta line 0\"\n",
            "RETURNED CONTENT:\n",
            "\"Structure of visceral layer of Bowman's capsule is a glomerular capsule structure and a structure of epithelium.\"\n",
            "RETURNED COSINE SIMILARITY:\n",
            "-0.04\n"
          ]
        }
      ],
      "source": [
        "search_string = 'straight'\n",
        "print(f'Semantic Searching data using search string:\\n\"{search_string}\"\\n')\n",
        "\n",
        "sim_search = await vDB.search_doc_table(query_string=search_string, limit=k)\n",
        "\n",
        "print_results(sim_search)"
      ]
    }
  ],
  "metadata": {
    "colab": {
      "provenance": []
    },
    "kernelspec": {
      "display_name": "env",
      "language": "python",
      "name": "python3"
    },
    "language_info": {
      "codemirror_mode": {
        "name": "ipython",
        "version": 3
      },
      "file_extension": ".py",
      "mimetype": "text/x-python",
      "name": "python",
      "nbconvert_exporter": "python",
      "pygments_lexer": "ipython3",
      "version": "3.11.4"
    },
    "orig_nbformat": 4
  },
  "nbformat": 4,
  "nbformat_minor": 0
}
