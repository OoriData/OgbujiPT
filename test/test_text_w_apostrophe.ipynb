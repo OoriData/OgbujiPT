{
  "cells": [
    {
      "attachments": {},
      "cell_type": "markdown",
      "metadata": {
        "id": "XKjkrM8lZbqY"
      },
      "source": [
        "# Failing use of from ogbujipt.embedding_helper.PGvectorConnection\n",
        "\n"
      ]
    },
    {
      "attachments": {},
      "cell_type": "markdown",
      "metadata": {
        "id": "kSUBMnKUZbqa"
      },
      "source": [
        "## Initial setup and Imports"
      ]
    },
    {
      "cell_type": "code",
      "execution_count": 29,
      "metadata": {
        "id": "qN6LvY32Zbqa"
      },
      "outputs": [],
      "source": [
        "import os\n",
        "\n",
        "HOST = os.environ.get('PGHOST', 'localhost')\n",
        "DB_NAME = 'PGv'\n",
        "PORT = 5432\n",
        "USER = 'oori'\n",
        "PASSWORD = 'example'"
      ]
    },
    {
      "cell_type": "code",
      "execution_count": 30,
      "metadata": {
        "id": "g11N52PcZbqb"
      },
      "outputs": [],
      "source": [
        "from ogbujipt.embedding.pgvector import DocDB\n",
        "from sentence_transformers       import SentenceTransformer\n",
        "\n",
        "e_model = SentenceTransformer('all-MiniLM-L6-v2')  # Load the embedding model\n",
        "\n",
        "pacer_copypasta = [  # Demo data\n",
        "    \"Structure of visceral layer of Bowman's capsule is a glomerular capsule structure and a structure of epithelium.\"\n",
        "]"
      ]
    },
    {
      "attachments": {},
      "cell_type": "markdown",
      "metadata": {
        "id": "DxKcqkAUZbqc"
      },
      "source": [
        "## Connecting to the database"
      ]
    },
    {
      "cell_type": "code",
      "execution_count": 31,
      "metadata": {
        "id": "fYyaJt48Zbqc",
        "outputId": "f5cf98a7-3ed6-432a-f39f-a794311c17c2"
      },
      "outputs": [],
      "source": [
        "TABLE_NAME = 'embedding_test'\n",
        "vDB = await DocDB.from_conn_params(\n",
        "    embedding_model=e_model, \n",
        "    table_name=TABLE_NAME,\n",
        "    user=USER,\n",
        "    password=PASSWORD,\n",
        "    db_name=DB_NAME,\n",
        "    host=HOST,\n",
        "    port=int(PORT)\n",
        ")"
      ]
    },
    {
      "attachments": {},
      "cell_type": "markdown",
      "metadata": {
        "id": "USe0OocfZbqd"
      },
      "source": [
        "## Create Tables"
      ]
    },
    {
      "cell_type": "code",
      "execution_count": 32,
      "metadata": {
        "id": "WQFRg7ekZbqd",
        "outputId": "b5a81b51-98d3-4630-da9d-279d7cfe5da6"
      },
      "outputs": [],
      "source": [
        "await vDB.drop_table()\n",
        "await vDB.create_table()"
      ]
    },
    {
      "attachments": {},
      "cell_type": "markdown",
      "metadata": {
        "id": "3JhfA3XFZbqd"
      },
      "source": [
        "## Inserting Data"
      ]
    },
    {
      "cell_type": "code",
      "execution_count": 33,
      "metadata": {
        "id": "lbz2fXryZbqd"
      },
      "outputs": [],
      "source": [
        "for index, text in enumerate(pacer_copypasta):   # For each line in the copypasta\n",
        "    await vDB.insert(                        # Insert the line into the table\n",
        "        content=text,                            # The text to be embedded\n",
        "        permission='public',                     # Permission metadata for access control\n",
        "        title=f'Pacer Copypasta line {index}',   # Title metadata\n",
        "        page_numbers=[1, 2, 3],                  # Page number metadata\n",
        "        tags=['fitness', 'pacer', 'copypasta'],  # Tag metadata\n",
        "    )"
      ]
    },
    {
      "attachments": {},
      "cell_type": "markdown",
      "metadata": {
        "id": "FWWNY2ySZbqd"
      },
      "source": [
        "## Similarity search"
      ]
    },
    {
      "cell_type": "code",
      "execution_count": 34,
      "metadata": {
        "id": "VDoJMiqKZbqe"
      },
      "outputs": [],
      "source": [
        "k = 3  # Setting number of rows to return when searching\n",
        "\n",
        "from pprint import pprint\n",
        "def print_results(results):  # Helper function to print results\n",
        "    print(f'RAW RETURN:')\n",
        "    pprint(results)                                                              # Print the raw results\n",
        "    print(f'\\nRETURNED TITLE:\\n\"{results[0][\"title\"]}\"')                            # Print the title of the first result\n",
        "    print(f'RETURNED CONTENT:\\n\"{results[0][\"content\"]}\"')                          # Print the content of the first result\n",
        "    print(f'RETURNED COSINE SIMILARITY:\\n{results[0][\"cosine_similarity\"]:.2f}')  # Print the cosine similarity of the first result"
      ]
    },
    {
      "attachments": {},
      "cell_type": "markdown",
      "metadata": {
        "id": "73HgVyLMZbqe"
      },
      "source": [
        "### Searching the table with a perfect match:"
      ]
    },
    {
      "cell_type": "code",
      "execution_count": 35,
      "metadata": {
        "id": "J-tkmohYZbqe",
        "outputId": "ec3a6319-f421-4ea8-c053-92e9fe89f1c9"
      },
      "outputs": [
        {
          "name": "stdout",
          "output_type": "stream",
          "text": [
            "Semantic Searching data using search string:\n",
            "\"[beep] A single lap should be completed each time you hear this sound.\"\n",
            "\n",
            "RAW RETURN:\n",
            "[<Record cosine_similarity=1.0135670066197815 title='Pacer Copypasta line 0' content=\"Structure of visceral layer of Bowman's capsule is a glomerular capsule structure and a structure of epithelium.\" permission='public' page_numbers=[1, 2, 3] tags=['fitness', 'pacer', 'copypasta']>]\n",
            "\n",
            "RETURNED TITLE:\n",
            "\"Pacer Copypasta line 0\"\n",
            "RETURNED CONTENT:\n",
            "\"Structure of visceral layer of Bowman's capsule is a glomerular capsule structure and a structure of epithelium.\"\n",
            "RETURNED COSINE SIMILARITY:\n",
            "1.01\n"
          ]
        }
      ],
      "source": [
        "search_string = '[beep] A single lap should be completed each time you hear this sound.'\n",
        "print(f'Semantic Searching data using search string:\\n\"{search_string}\"\\n')\n",
        "\n",
        "sim_search = await vDB.search(query_string=search_string, limit=k)\n",
        "\n",
        "print_results(sim_search)"
      ]
    },
    {
      "attachments": {},
      "cell_type": "markdown",
      "metadata": {
        "id": "FxQkw-YfZbqe"
      },
      "source": [
        "### Searching the table with a partial match:"
      ]
    },
    {
      "cell_type": "code",
      "execution_count": 36,
      "metadata": {
        "id": "EWeeE6ekZbqe",
        "outputId": "b1631925-3007-4694-fd67-9d20de35a5ee"
      },
      "outputs": [
        {
          "name": "stdout",
          "output_type": "stream",
          "text": [
            "Semantic Searching data using search string:\n",
            "\"straight\"\n",
            "\n",
            "RAW RETURN:\n",
            "[<Record cosine_similarity=1.0444792224311596 title='Pacer Copypasta line 0' content=\"Structure of visceral layer of Bowman's capsule is a glomerular capsule structure and a structure of epithelium.\" permission='public' page_numbers=[1, 2, 3] tags=['fitness', 'pacer', 'copypasta']>]\n",
            "\n",
            "RETURNED TITLE:\n",
            "\"Pacer Copypasta line 0\"\n",
            "RETURNED CONTENT:\n",
            "\"Structure of visceral layer of Bowman's capsule is a glomerular capsule structure and a structure of epithelium.\"\n",
            "RETURNED COSINE SIMILARITY:\n",
            "1.04\n"
          ]
        }
      ],
      "source": [
        "search_string = 'straight'\n",
        "print(f'Semantic Searching data using search string:\\n\"{search_string}\"\\n')\n",
        "\n",
        "sim_search = await vDB.search(query_string=search_string, limit=k)\n",
        "\n",
        "print_results(sim_search)"
      ]
    }
  ],
  "metadata": {
    "colab": {
      "provenance": []
    },
    "kernelspec": {
      "display_name": "env",
      "language": "python",
      "name": "python3"
    },
    "language_info": {
      "codemirror_mode": {
        "name": "ipython",
        "version": 3
      },
      "file_extension": ".py",
      "mimetype": "text/x-python",
      "name": "python",
      "nbconvert_exporter": "python",
      "pygments_lexer": "ipython3",
      "version": "3.11.4"
    },
    "orig_nbformat": 4
  },
  "nbformat": 4,
  "nbformat_minor": 0
}
